{
 "cells": [
  {
   "cell_type": "code",
   "execution_count": 2,
   "metadata": {},
   "outputs": [],
   "source": [
    "# -*- coding: utf-8 -*-\n",
    "\n",
    "def logger(msg):\n",
    "    def log_message(): #1\n",
    "        print('Log:   ', msg)\n",
    "    return log_message"
   ]
  },
  {
   "cell_type": "code",
   "execution_count": 3,
   "metadata": {},
   "outputs": [],
   "source": [
    "log_hi = logger('Hi')"
   ]
  },
  {
   "cell_type": "code",
   "execution_count": 4,
   "metadata": {},
   "outputs": [
    {
     "name": "stdout",
     "output_type": "stream",
     "text": [
      "<function logger.<locals>.log_message at 0x000001EE2AA6D318>\n"
     ]
    }
   ],
   "source": [
    "print(log_hi)"
   ]
  },
  {
   "cell_type": "code",
   "execution_count": 5,
   "metadata": {},
   "outputs": [
    {
     "name": "stdout",
     "output_type": "stream",
     "text": [
      "Log:    Hi\n"
     ]
    }
   ],
   "source": [
    "log_hi()"
   ]
  },
  {
   "cell_type": "code",
   "execution_count": 7,
   "metadata": {},
   "outputs": [
    {
     "name": "stdout",
     "output_type": "stream",
     "text": [
      "<function logger.<locals>.log_message at 0x000001EE2AA6DE58>\n",
      "Log:  Hi\n",
      "NameError: logger는 존재하지 않습니다.\n",
      "Log:  Hi\n"
     ]
    }
   ],
   "source": [
    "# -*- coding: utf-8 -*-\n",
    "\n",
    "def logger(msg):\n",
    "    def log_message():\n",
    "        print('Log: ', msg)\n",
    "    return log_message\n",
    "\n",
    "log_hi = logger('Hi')\n",
    "print(log_hi) # log_message 오브젝트가 출력됩니다.\n",
    "log_hi() # 'Log: Hi' 가 출력됩니다.\n",
    "\n",
    "del logger # 글로벌 네임 스페이스에서 logger 오브젝트를 지웁니다.\n",
    "\n",
    "# logger 오브젝트가 지워진 것을 확인합니다.\n",
    "try:\n",
    "    print(logger) \n",
    "\n",
    "except NameError:\n",
    "    print('NameError: logger는 존재하지 않습니다.')\n",
    "    \n",
    "log_hi() # logger가 지워진 뒤에도 \"Log: Hi\" 가 출력됩니다."
   ]
  },
  {
   "cell_type": "code",
   "execution_count": null,
   "metadata": {},
   "outputs": [],
   "source": []
  },
  {
   "cell_type": "code",
   "execution_count": 9,
   "metadata": {},
   "outputs": [
    {
     "name": "stdout",
     "output_type": "stream",
     "text": [
      "<h1>심플 헤딩 타이틀<h1>\n",
      "------------------------------\n",
      "<function html_tag.<locals>.wrap_text at 0x000001EE2B0F7EE8>\n",
      "<h1>첫 번째 헤딩 타이틀<h1>\n",
      "<h1>두 번재 헤딩 타이틀<h1>\n",
      "<p>이것은 패러그래프 입니다.<p>\n"
     ]
    }
   ],
   "source": [
    "# -*- coding: utf-8 -*-\n",
    "# 단순한 일반함수 \n",
    "\n",
    "def simple_html_tag(tag, msg):\n",
    "    print('<{0}>{1}<{0}>'.format(tag, msg))\n",
    "\n",
    "simple_html_tag('h1', '심플 헤딩 타이틀')\n",
    "\n",
    "print('-' * 30)\n",
    "\n",
    "# 함수를 리턴하는 함수\n",
    "def html_tag(tag):\n",
    "    \n",
    "    def wrap_text(msg):\n",
    "        print('<{0}>{1}<{0}>'.format(tag, msg))\n",
    "    \n",
    "    return wrap_text\n",
    "\n",
    "\n",
    "print_h1 = html_tag('h1') #1\n",
    "print(print_h1)\n",
    "print_h1('첫 번째 헤딩 타이틀') #3\n",
    "print_h1('두 번재 헤딩 타이틀') #4\n",
    "\n",
    "print_p = html_tag('p')\n",
    "print_p('이것은 패러그래프 입니다.')\n",
    "    "
   ]
  },
  {
   "cell_type": "code",
   "execution_count": null,
   "metadata": {},
   "outputs": [],
   "source": []
  }
 ],
 "metadata": {
  "kernelspec": {
   "display_name": "Python 3",
   "language": "python",
   "name": "python3"
  },
  "language_info": {
   "codemirror_mode": {
    "name": "ipython",
    "version": 3
   },
   "file_extension": ".py",
   "mimetype": "text/x-python",
   "name": "python",
   "nbconvert_exporter": "python",
   "pygments_lexer": "ipython3",
   "version": "3.7.4"
  }
 },
 "nbformat": 4,
 "nbformat_minor": 2
}
