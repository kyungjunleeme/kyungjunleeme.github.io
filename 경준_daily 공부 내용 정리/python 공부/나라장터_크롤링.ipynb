{
 "cells": [
  {
   "cell_type": "code",
   "execution_count": 1,
   "metadata": {},
   "outputs": [],
   "source": [
    "import requests\n",
    "from bs4 import BeautifulSoup\n",
    "\n",
    "def text_strip(text):\n",
    "    return ' '.join(text.split())\n",
    "\n",
    "def get_props(url):\n",
    "    res = requests.get(url)\n",
    "    html = res.text\n",
    "    soup = BeautifulSoup(html, 'html.parser')\n",
    "\n",
    "    for tag in soup.select('.table_list'):\n",
    "        tag.extract()\n",
    "\n",
    "    props = {\n",
    "        text_strip(tag1.text) : text_strip(tag2.text)\n",
    "        for tag1, tag2 in zip(soup.select('.table_info th'), soup.select('.table_info td'))\n",
    "    }\n",
    "\n",
    "    return props"
   ]
  },
  {
   "cell_type": "code",
   "execution_count": 2,
   "metadata": {},
   "outputs": [
    {
     "data": {
      "text/plain": [
       "51"
      ]
     },
     "execution_count": 2,
     "metadata": {},
     "output_type": "execute_result"
    }
   ],
   "source": [
    "url = 'http://www.g2b.go.kr:8081/ep/invitation/publish/bidInfoDtl.do?bidno=20190911928&bidseq=00'\n",
    "props = get_props(url)\n",
    "len(props)"
   ]
  },
  {
   "cell_type": "code",
   "execution_count": 3,
   "metadata": {},
   "outputs": [
    {
     "data": {
      "text/plain": [
       "('487,000,000원', '442,727,273원')"
      ]
     },
     "execution_count": 3,
     "metadata": {},
     "output_type": "execute_result"
    }
   ],
   "source": [
    "props['배정예산'], props['추정가격']"
   ]
  },
  {
   "cell_type": "code",
   "execution_count": 4,
   "metadata": {},
   "outputs": [
    {
     "data": {
      "text/plain": [
       "{'입찰집행 부가정보': 'PQ심사결과조회 TP심사결과조회 지명경쟁자료조회 실적경쟁자료조회 과업설명참가조회',\n",
       " '신청서/입찰서 제출': 'PQ심사신청 실적심사신청 적격심사신청 과업설명참가신청 공동수급협정서관리 지문투찰',\n",
       " '공고종류': '실공고',\n",
       " '게시일시': '2019/09/11 16:24',\n",
       " '입찰공고번호': '20190911928 - 00',\n",
       " '참조번호': '한국농어촌공사 포항울릉지사 공고 제2019-31호',\n",
       " '공고명': '신창2리항 어촌뉴딜300 지역역량강화사업 용역 본 공고는 지문인식 전자입찰제도가 적용되오니 미리 지문보안토큰에 지문정보를 등록하여야 합니다. 본 공고는 \"나라장터 안전 입찰서비스\"를 이용하여야만 전자입찰서를 제출 할 수 있습니다. 유의사항 안내',\n",
       " '공고기관': '한국농어촌공사 경북지역본부 포항지사',\n",
       " '수요기관': '한국농어촌공사 경북지역본부 포항지사',\n",
       " '입찰방식': '전자입찰',\n",
       " '낙찰방법': '공고서 참조',\n",
       " '계약방법': '일반(총액)협상에의한계약',\n",
       " '국제입찰구분': '국내입찰',\n",
       " '용역구분': '일반용역',\n",
       " '발주계획번호': '5-1-2019-D150449-000013',\n",
       " '사전규격등록번호': '764505',\n",
       " '재입찰': '재입찰 없음',\n",
       " '국내/국제 입찰사유': '국제입찰 비대상(고시금액 이하 또는 대상기관아님)',\n",
       " 'WTO품목번호': '기타용역',\n",
       " '입찰자격': '공고서 참조',\n",
       " '관련공고': '',\n",
       " '공고담당자': '원흥연 (054-720-7004)',\n",
       " '집행관': '원흥연',\n",
       " '입찰개시일시': '2019/10/14 09:00:00',\n",
       " '입찰마감일시': '2019/10/23 17:00:00',\n",
       " '개찰(입찰)일시': '2019/10/30 16:00:00',\n",
       " '개찰장소': '국가종합전자조달시스템(나라장터)',\n",
       " '입찰참가자격등록마감일시': '2019/10/22 18:00:00 조달청 입찰참가등록 가능시간은 평일 09:00~18:00 이며, 토요일, 일요일 및 공휴일은 업무처리가 불가합니다. 본 입찰에 참여하는 업체는 입찰참가자격등록마감일시까지 나라장터에 경쟁입찰참가자격등록(특히 물품, 업종 등 자격제한 사항 필히 확인)을 해야 합니다.',\n",
       " '보증서접수마감일시': '보증서 접수마감일시를 입력하지 않은 경우에는, 입찰서 접수마감일 전일 18시까지 제출이 가능합니다. (단, 입찰보증금지급각서로 대체하는 경우 보증금이 면제됩니다.)',\n",
       " '공동수급협정서접수여부': '방식: 공고서참조 공동수급불허',\n",
       " '공동수급협정서마감일시': '마감: 공고서 참조',\n",
       " 'PQ심사신청서': '',\n",
       " 'PQ심사신청서신청기한': '',\n",
       " 'TP심사신청서': '',\n",
       " 'TP심사신청서신청기한': '',\n",
       " '실적심사신청서': '방식: 공고서참조',\n",
       " '실적심사신청서신청기한': '',\n",
       " '과업설명장소': '',\n",
       " '과업설명일시': '',\n",
       " '동가입찰 낙찰자자동추첨프로그램': '별도추첨 도움말',\n",
       " '채권자명': '한국농어촌공사포항·울릉지사장',\n",
       " '제안서 제출': '제안서온라인제출/제출결과확인',\n",
       " '예가방법': '복수예가 : 4 (추첨예가) / 15 (총예가)',\n",
       " '추첨번호공개여부': '비공개',\n",
       " '배정예산': '487,000,000원',\n",
       " '추정가격': '442,727,273원',\n",
       " '지역제한': '공고서 참조',\n",
       " '업종제한': '투찰제한',\n",
       " '업종사항제한': '[ 학술.연구용역(1169) ]업종을 등록한 업체 ※업종명을 클릭시 관련 근거법령을 조회하실수 있습니다. ※[]안의 업종제한은 시스템상에 입력된 제한사항으로 공고서와 상이할 수도 있습니다. 입찰에 참여하시기 전에 반드시 공고서를 숙지하여 정확한 제한 업종을 확인하시기 바랍니다. ※아래는 제한된 업종에 대해 투찰가능한 허용업종 상황을 보여줍니다. 확인하시기 바랍니다. 투찰제한 정보:No,투찰가능한업종,허용업종',\n",
       " '과업설명 제한여부': '참가제한안함',\n",
       " '공동수급체 구성원 지역제한적용여부': '공고서에 의함'}"
      ]
     },
     "execution_count": 4,
     "metadata": {},
     "output_type": "execute_result"
    }
   ],
   "source": [
    "props"
   ]
  },
  {
   "cell_type": "code",
   "execution_count": null,
   "metadata": {},
   "outputs": [],
   "source": []
  }
 ],
 "metadata": {
  "kernelspec": {
   "display_name": "Python 3",
   "language": "python",
   "name": "python3"
  },
  "language_info": {
   "codemirror_mode": {
    "name": "ipython",
    "version": 3
   },
   "file_extension": ".py",
   "mimetype": "text/x-python",
   "name": "python",
   "nbconvert_exporter": "python",
   "pygments_lexer": "ipython3",
   "version": "3.7.3"
  }
 },
 "nbformat": 4,
 "nbformat_minor": 2
}
