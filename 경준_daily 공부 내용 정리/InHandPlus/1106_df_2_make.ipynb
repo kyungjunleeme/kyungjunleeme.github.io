{
 "cells": [
  {
   "cell_type": "code",
   "execution_count": 37,
   "metadata": {},
   "outputs": [
    {
     "name": "stdout",
     "output_type": "stream",
     "text": [
      "bottle\n",
      "hand\n",
      "grab_bottle_hand\n",
      "face\n",
      "hand\n",
      "hand\n"
     ]
    },
    {
     "ename": "KeyError",
     "evalue": "'1'",
     "output_type": "error",
     "traceback": [
      "\u001b[1;31m---------------------------------------------------------------------------\u001b[0m",
      "\u001b[1;31mKeyError\u001b[0m                                  Traceback (most recent call last)",
      "\u001b[1;32m<ipython-input-37-23a94162897e>\u001b[0m in \u001b[0;36m<module>\u001b[1;34m\u001b[0m\n\u001b[0;32m     35\u001b[0m             \u001b[0mans_obj_sum_cnt\u001b[0m \u001b[1;33m=\u001b[0m \u001b[0mlen\u001b[0m\u001b[1;33m(\u001b[0m\u001b[0mans_obj_cnt_list\u001b[0m\u001b[1;33m)\u001b[0m\u001b[1;33m\u001b[0m\u001b[1;33m\u001b[0m\u001b[0m\n\u001b[0;32m     36\u001b[0m             \u001b[1;32mfor\u001b[0m \u001b[0mi\u001b[0m \u001b[1;32min\u001b[0m \u001b[0mobj_cnt_list\u001b[0m\u001b[1;33m:\u001b[0m\u001b[1;33m\u001b[0m\u001b[1;33m\u001b[0m\u001b[0m\n\u001b[1;32m---> 37\u001b[1;33m                 \u001b[0mfinal_info\u001b[0m \u001b[1;33m=\u001b[0m \u001b[0mfile_json_info\u001b[0m\u001b[1;33m[\u001b[0m\u001b[0mi\u001b[0m\u001b[1;33m]\u001b[0m\u001b[1;33m\u001b[0m\u001b[1;33m\u001b[0m\u001b[0m\n\u001b[0m\u001b[0;32m     38\u001b[0m                 \u001b[0mobj_name\u001b[0m \u001b[1;33m=\u001b[0m \u001b[0mfinal_info\u001b[0m\u001b[1;33m[\u001b[0m\u001b[1;34m'name'\u001b[0m\u001b[1;33m]\u001b[0m\u001b[1;33m\u001b[0m\u001b[1;33m\u001b[0m\u001b[0m\n\u001b[0;32m     39\u001b[0m                 \u001b[0mprint\u001b[0m\u001b[1;33m(\u001b[0m\u001b[0mobj_name\u001b[0m\u001b[1;33m)\u001b[0m\u001b[1;33m\u001b[0m\u001b[1;33m\u001b[0m\u001b[0m\n",
      "\u001b[1;31mKeyError\u001b[0m: '1'"
     ]
    }
   ],
   "source": [
    "import json\n",
    "import pandas as pd\n",
    "import numpy as np\n",
    "\n",
    "'''bbox[0] = 'ymin'\n",
    "   bbox[1] = 'xmin'\n",
    "   bbox[2] = 'ymax'\n",
    "   bbox[3] = 'xmax'\n",
    "# 0: ymin, 1: xmin, 2: ymax, 3: xmax'''\n",
    "colum_list = ['filename', 'ans_obj_list', 'ans_obj_sum_cnt']\n",
    "ans_obj_list=[]\n",
    "\n",
    "# row_list = []\n",
    "\n",
    "# per_file_per_object_info_list = []\n",
    "\n",
    "df = pd.DataFrame(columns=colum_list)\n",
    "\n",
    "\n",
    "with open('object_list.json') as json_file:\n",
    "    json_data = json.load(json_file)\n",
    "    file_name_list = list(json_data)         \n",
    "    for filename in file_name_list:\n",
    "        '''파일 1개당 json 정보'''\n",
    "        '''case_1: json 정보 있는 경우 _ case_2: json 정보 없는 경우'''\n",
    "        file_json_info = json_data[filename]\n",
    "        '''case_2: json 정보 없는 경우'''\n",
    "        if not file_json_info:\n",
    "            ans_obj_list = 'Null'\n",
    "            ans_obj_sum_cnt = 'Null'\n",
    "            df = df.append(pd.DataFrame([[filename+'_', ans_obj_list, ans_obj_sum_cnt]], columns=colum_list), ignore_index=True)\n",
    "        else:\n",
    "            '''파일 1개당 감지된_되어야하는_object 갯수'''\n",
    "            ans_obj_cnt_list = list(file_json_info)\n",
    "            ans_obj_sum_cnt = len(ans_obj_cnt_list)\n",
    "            for i in obj_cnt_list:\n",
    "                final_info = file_json_info[i]\n",
    "                obj_name = final_info['name']\n",
    "                print(obj_name)\n",
    "                # df = df.append(pd.DataFrame([[filename+'_', ans_obj_cnt_list, ans_obj_sum_cnt]], columns=colum_list), ignore_index=True)\n",
    "\n",
    "        \n",
    "        \n",
    "        '''(위에서 json 정보 없는 경우에서 걸러짐) case_1: object 있는경우 // case_2: object 없는 경우'''\n",
    "        \n",
    "        '''json 내 obj, name, score, bbox, size'''\n",
    "\n"
   ]
  },
  {
   "cell_type": "code",
   "execution_count": 34,
   "metadata": {},
   "outputs": [
    {
     "data": {
      "text/html": [
       "<div>\n",
       "<style scoped>\n",
       "    .dataframe tbody tr th:only-of-type {\n",
       "        vertical-align: middle;\n",
       "    }\n",
       "\n",
       "    .dataframe tbody tr th {\n",
       "        vertical-align: top;\n",
       "    }\n",
       "\n",
       "    .dataframe thead th {\n",
       "        text-align: right;\n",
       "    }\n",
       "</style>\n",
       "<table border=\"1\" class=\"dataframe\">\n",
       "  <thead>\n",
       "    <tr style=\"text-align: right;\">\n",
       "      <th></th>\n",
       "      <th>filename</th>\n",
       "      <th>ans_obj_list</th>\n",
       "      <th>ans_obj_sum_cnt</th>\n",
       "    </tr>\n",
       "  </thead>\n",
       "  <tbody>\n",
       "    <tr>\n",
       "      <th>0</th>\n",
       "      <td>test_01.jpg_</td>\n",
       "      <td>[0, 1, 2, 3, 4]</td>\n",
       "      <td>5</td>\n",
       "    </tr>\n",
       "    <tr>\n",
       "      <th>1</th>\n",
       "      <td>test_02.jpg_</td>\n",
       "      <td>Null</td>\n",
       "      <td>Null</td>\n",
       "    </tr>\n",
       "    <tr>\n",
       "      <th>2</th>\n",
       "      <td>test_03.jpg_</td>\n",
       "      <td>Null</td>\n",
       "      <td>Null</td>\n",
       "    </tr>\n",
       "    <tr>\n",
       "      <th>3</th>\n",
       "      <td>test_04.jpg_</td>\n",
       "      <td>Null</td>\n",
       "      <td>Null</td>\n",
       "    </tr>\n",
       "    <tr>\n",
       "      <th>4</th>\n",
       "      <td>test_05.jpg_</td>\n",
       "      <td>Null</td>\n",
       "      <td>Null</td>\n",
       "    </tr>\n",
       "    <tr>\n",
       "      <th>5</th>\n",
       "      <td>test_06.jpg_</td>\n",
       "      <td>[0]</td>\n",
       "      <td>1</td>\n",
       "    </tr>\n",
       "    <tr>\n",
       "      <th>6</th>\n",
       "      <td>test_07.jpg_</td>\n",
       "      <td>Null</td>\n",
       "      <td>Null</td>\n",
       "    </tr>\n",
       "  </tbody>\n",
       "</table>\n",
       "</div>"
      ],
      "text/plain": [
       "       filename     ans_obj_list ans_obj_sum_cnt\n",
       "0  test_01.jpg_  [0, 1, 2, 3, 4]               5\n",
       "1  test_02.jpg_             Null            Null\n",
       "2  test_03.jpg_             Null            Null\n",
       "3  test_04.jpg_             Null            Null\n",
       "4  test_05.jpg_             Null            Null\n",
       "5  test_06.jpg_              [0]               1\n",
       "6  test_07.jpg_             Null            Null"
      ]
     },
     "execution_count": 34,
     "metadata": {},
     "output_type": "execute_result"
    }
   ],
   "source": [
    "df"
   ]
  },
  {
   "cell_type": "code",
   "execution_count": 38,
   "metadata": {},
   "outputs": [
    {
     "name": "stdout",
     "output_type": "stream",
     "text": [
      "Type        Fruit  Meal\n",
      "Importance             \n",
      "2             NaN   8.0\n",
      "5             7.0   NaN\n",
      "6             3.0   NaN\n",
      "8             NaN   4.0\n"
     ]
    }
   ],
   "source": [
    "df = pd.DataFrame([\n",
    "    ['Apple', 7, 5, 'Fruit'],\n",
    "    ['Banana', 3, 6, 'Fruit'],\n",
    "    ['Coconut', 2, 6, 'Fruit'],\n",
    "    ['Rice', 8, 2, 'Meal'],\n",
    "    ['Beef', 5, 2, 'Meal'],\n",
    "    ['Kimchi', 4, 8, 'Meal']],\n",
    "    columns=[\"Name\", \"Frequency\", \"Importance\", \"Type\"])\n",
    "\n",
    "df = df.pivot_table(\n",
    "    index=\"Importance\", columns=\"Type\", values=\"Frequency\",\n",
    "    aggfunc=np.max\n",
    ")\n",
    "print(df)\n",
    "\n"
   ]
  },
  {
   "cell_type": "code",
   "execution_count": null,
   "metadata": {},
   "outputs": [],
   "source": []
  }
 ],
 "metadata": {
  "kernelspec": {
   "display_name": "Python 3",
   "language": "python",
   "name": "python3"
  },
  "language_info": {
   "codemirror_mode": {
    "name": "ipython",
    "version": 3
   },
   "file_extension": ".py",
   "mimetype": "text/x-python",
   "name": "python",
   "nbconvert_exporter": "python",
   "pygments_lexer": "ipython3",
   "version": "3.7.3"
  }
 },
 "nbformat": 4,
 "nbformat_minor": 2
}
