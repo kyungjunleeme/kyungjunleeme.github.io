{
 "cells": [
  {
   "cell_type": "code",
   "execution_count": 2,
   "metadata": {},
   "outputs": [
    {
     "name": "stdout",
     "output_type": "stream",
     "text": [
      "[]\n",
      "['0', '1', '2']\n",
      "하이\n",
      "하이\n",
      "test_01.jpg 3 ['bottle', 'face', 'grab_bottle_hand']\n",
      "['bottle', 'face', 'grab_bottle_hand']\n",
      "['0', '1']\n",
      "하이\n",
      "test_06.jpg 2 ['open_bottle', 'face']\n"
     ]
    }
   ],
   "source": [
    "import json\n",
    "import pandas as pd\n",
    "import numpy as np\n",
    "\n",
    "'''bbox[0] = 'ymin'\n",
    "   bbox[1] = 'xmin'\n",
    "   bbox[2] = 'ymax'\n",
    "   bbox[3] = 'xmax'\n",
    "# 0: ymin, 1: xmin, 2: ymax, 3: xmax'''\n",
    "colum_list = ['filename', 'obj_list', 'obj_sum_cnt']\n",
    "# ans_obj_list=[]\n",
    "\n",
    "object_list = []\n",
    "# row_list = []\n",
    "\n",
    "# per_file_per_object_info_list = []\n",
    "\n",
    "df = pd.DataFrame(columns=colum_list)\n",
    "\n",
    "\n",
    "with open('object_list_test.json') as json_file:\n",
    "    json_data = json.load(json_file)\n",
    "    file_name_list = list(json_data)\n",
    "    \n",
    "    for filename in file_name_list:\n",
    "        print(object_list)\n",
    "        \n",
    "        file_info = json_data[filename]\n",
    "        object_list[:]=[]\n",
    "        '''['0', '1', '2', '3', '4']'''\n",
    "        \n",
    "        obj_cnt_list = list(file_info)\n",
    "        obj_cnt = len(obj_cnt_list)\n",
    "        print(obj_cnt_list)\n",
    "        for obj_idx in obj_cnt_list[:]:\n",
    "            try:\n",
    "                pop_ele = obj_cnt_list.pop(len(obj_idx)-1)\n",
    "                object_list.append(file_info[pop_ele]['name'])\n",
    "                if not obj_cnt_list:\n",
    "                    print(filename, obj_cnt, object_list)\n",
    "                    df = df.append({\n",
    "                        \"filename\": filename,\n",
    "                        \"obj_sum_cnt\":  obj_cnt,\n",
    "                        \"obj_list\":  object_list\n",
    "                    }, ignore_index=True)\n",
    "                else:\n",
    "                    print('하이')\n",
    "            except:\n",
    "                ''' pop_ele에 원소 없으면 오류 발생할테니 '''\n",
    "                continue\n",
    "\n",
    "            \n"
   ]
  },
  {
   "cell_type": "code",
   "execution_count": 3,
   "metadata": {},
   "outputs": [
    {
     "data": {
      "text/html": [
       "<div>\n",
       "<style scoped>\n",
       "    .dataframe tbody tr th:only-of-type {\n",
       "        vertical-align: middle;\n",
       "    }\n",
       "\n",
       "    .dataframe tbody tr th {\n",
       "        vertical-align: top;\n",
       "    }\n",
       "\n",
       "    .dataframe thead th {\n",
       "        text-align: right;\n",
       "    }\n",
       "</style>\n",
       "<table border=\"1\" class=\"dataframe\">\n",
       "  <thead>\n",
       "    <tr style=\"text-align: right;\">\n",
       "      <th></th>\n",
       "      <th>filename</th>\n",
       "      <th>obj_list</th>\n",
       "      <th>obj_sum_cnt</th>\n",
       "    </tr>\n",
       "  </thead>\n",
       "  <tbody>\n",
       "    <tr>\n",
       "      <th>0</th>\n",
       "      <td>test_01.jpg</td>\n",
       "      <td>[open_bottle, face]</td>\n",
       "      <td>3</td>\n",
       "    </tr>\n",
       "    <tr>\n",
       "      <th>1</th>\n",
       "      <td>test_06.jpg</td>\n",
       "      <td>[open_bottle, face]</td>\n",
       "      <td>2</td>\n",
       "    </tr>\n",
       "  </tbody>\n",
       "</table>\n",
       "</div>"
      ],
      "text/plain": [
       "      filename             obj_list obj_sum_cnt\n",
       "0  test_01.jpg  [open_bottle, face]           3\n",
       "1  test_06.jpg  [open_bottle, face]           2"
      ]
     },
     "execution_count": 3,
     "metadata": {},
     "output_type": "execute_result"
    }
   ],
   "source": [
    "df"
   ]
  },
  {
   "cell_type": "code",
   "execution_count": null,
   "metadata": {},
   "outputs": [],
   "source": [
    "            \n",
    "            if \n",
    "         for item in a[:]:\n",
    "    print item\n",
    "    if item == \"b\":\n",
    "        a.remove(item)\n",
    "        \n",
    "        obj_info = file_info[]\n",
    "        \n",
    "        \n",
    "        '''obj_cnt_list가 pop을 통해서 요소를 하나씩 꺼내자 다 끝난 상태에서 file_name과 함께 object_list를 row로 박는다.'''\n",
    "        \n",
    "        \n",
    "        \n",
    "        print(file_info['0'])\n",
    "        \n",
    "        \n",
    "        "
   ]
  },
  {
   "cell_type": "code",
   "execution_count": null,
   "metadata": {},
   "outputs": [],
   "source": []
  },
  {
   "cell_type": "code",
   "execution_count": null,
   "metadata": {},
   "outputs": [],
   "source": []
  },
  {
   "cell_type": "code",
   "execution_count": null,
   "metadata": {},
   "outputs": [],
   "source": []
  },
  {
   "cell_type": "code",
   "execution_count": null,
   "metadata": {},
   "outputs": [],
   "source": []
  },
  {
   "cell_type": "code",
   "execution_count": null,
   "metadata": {},
   "outputs": [],
   "source": [
    "        print(idx, filename)\n",
    "        with open('object_list_test.json') as json_file:\n",
    "            json_data = json.load(json_file)    \n",
    "            file_info = json_data[filename]\n",
    "            test_info = list(file_info)\n",
    "            for i in test_info:\n",
    "                object_list.append(file_info[i]['name'])\n",
    "        continue\n",
    "    print(idx)\n",
    "                "
   ]
  },
  {
   "cell_type": "code",
   "execution_count": null,
   "metadata": {},
   "outputs": [],
   "source": []
  },
  {
   "cell_type": "code",
   "execution_count": null,
   "metadata": {},
   "outputs": [],
   "source": []
  },
  {
   "cell_type": "code",
   "execution_count": null,
   "metadata": {},
   "outputs": [],
   "source": [
    "fl_list = [1.jpg, 2.jpg]\n",
    "first_fl_list_inner_obj_list = fl_list['0']\n",
    "second_fl_list_inner"
   ]
  },
  {
   "cell_type": "code",
   "execution_count": null,
   "metadata": {},
   "outputs": [],
   "source": [
    "\n",
    "\n"
   ]
  },
  {
   "cell_type": "code",
   "execution_count": null,
   "metadata": {},
   "outputs": [],
   "source": []
  },
  {
   "cell_type": "code",
   "execution_count": null,
   "metadata": {},
   "outputs": [],
   "source": []
  },
  {
   "cell_type": "code",
   "execution_count": null,
   "metadata": {},
   "outputs": [],
   "source": []
  },
  {
   "cell_type": "code",
   "execution_count": 38,
   "metadata": {},
   "outputs": [
    {
     "data": {
      "text/plain": [
       "['bottle', 'hand', 'grab_bottle_hand', 'face', 'hand', 'hand']"
      ]
     },
     "execution_count": 38,
     "metadata": {},
     "output_type": "execute_result"
    }
   ],
   "source": [
    "object_list"
   ]
  },
  {
   "cell_type": "code",
   "execution_count": null,
   "metadata": {},
   "outputs": [],
   "source": [
    "\n",
    "        '''case_2: json 정보 없는 경우'''\n",
    "        if not file_json_info:\n",
    "            ans_obj_list = 'Null'\n",
    "            ans_obj_sum_cnt = 'Null'\n",
    "            df = df.append(pd.DataFrame([[filename+'_', ans_obj_list, ans_obj_sum_cnt]], columns=colum_list), ignore_index=True)\n",
    "        else:\n",
    "            '''파일 1개당 감지된_되어야하는_object 갯수'''\n",
    "            ans_obj_cnt_list = list(file_json_info)\n",
    "            ans_obj_sum_cnt = len(ans_obj_cnt_list)\n",
    "        \n",
    "        '''(위에서 json 정보 없는 경우에서 걸러짐) case_1: object 있는경우 // case_2: object 없는 경우'''\n",
    "        \n",
    "        '''json 내 obj, name, score, bbox, size'''\n",
    "\n"
   ]
  },
  {
   "cell_type": "code",
   "execution_count": null,
   "metadata": {},
   "outputs": [],
   "source": []
  },
  {
   "cell_type": "code",
   "execution_count": null,
   "metadata": {},
   "outputs": [],
   "source": []
  },
  {
   "cell_type": "code",
   "execution_count": null,
   "metadata": {},
   "outputs": [],
   "source": []
  },
  {
   "cell_type": "code",
   "execution_count": null,
   "metadata": {},
   "outputs": [],
   "source": []
  },
  {
   "cell_type": "code",
   "execution_count": null,
   "metadata": {},
   "outputs": [],
   "source": []
  },
  {
   "cell_type": "code",
   "execution_count": null,
   "metadata": {},
   "outputs": [],
   "source": []
  },
  {
   "cell_type": "code",
   "execution_count": null,
   "metadata": {},
   "outputs": [],
   "source": [
    "df = pd.DataFrame([\n",
    "    ['Apple', 7, 5, 'Fruit'],\n",
    "    ['Banana', 3, 6, 'Fruit'],\n",
    "    ['Coconut', 2, 6, 'Fruit'],\n",
    "    ['Rice', 8, 2, 'Meal'],\n",
    "    ['Beef', 5, 2, 'Meal'],\n",
    "    ['Kimchi', 4, 8, 'Meal']],\n",
    "    columns=[\"Name\", \"Frequency\", \"Importance\", \"Type\"])\n",
    "\n",
    "df = df.pivot_table(\n",
    "    index=\"Importance\", columns=\"Type\", values=\"Frequency\",\n",
    "    aggfunc=np.max\n",
    ")\n",
    "print(df)\n",
    "\n"
   ]
  },
  {
   "cell_type": "code",
   "execution_count": null,
   "metadata": {},
   "outputs": [],
   "source": []
  }
 ],
 "metadata": {
  "kernelspec": {
   "display_name": "Python 3",
   "language": "python",
   "name": "python3"
  },
  "language_info": {
   "codemirror_mode": {
    "name": "ipython",
    "version": 3
   },
   "file_extension": ".py",
   "mimetype": "text/x-python",
   "name": "python",
   "nbconvert_exporter": "python",
   "pygments_lexer": "ipython3",
   "version": "3.7.3"
  }
 },
 "nbformat": 4,
 "nbformat_minor": 2
}
