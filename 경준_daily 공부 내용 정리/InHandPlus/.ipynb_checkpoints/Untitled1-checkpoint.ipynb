{
 "cells": [
  {
   "cell_type": "code",
   "execution_count": 3,
   "metadata": {},
   "outputs": [],
   "source": [
    "s = '200406_175746_null_128.jpg'.split('.')[0]"
   ]
  },
  {
   "cell_type": "code",
   "execution_count": 8,
   "metadata": {},
   "outputs": [
    {
     "data": {
      "text/plain": [
       "'200406_175746_null_128'"
      ]
     },
     "execution_count": 8,
     "metadata": {},
     "output_type": "execute_result"
    }
   ],
   "source": [
    "s"
   ]
  },
  {
   "cell_type": "code",
   "execution_count": 52,
   "metadata": {},
   "outputs": [],
   "source": [
    "t = s.split('_')[1]"
   ]
  },
  {
   "cell_type": "code",
   "execution_count": 53,
   "metadata": {},
   "outputs": [
    {
     "data": {
      "text/plain": [
       "'175746'"
      ]
     },
     "execution_count": 53,
     "metadata": {},
     "output_type": "execute_result"
    }
   ],
   "source": [
    "t"
   ]
  },
  {
   "cell_type": "code",
   "execution_count": 57,
   "metadata": {},
   "outputs": [],
   "source": [
    "test = '200406_175250_null_68.jpg'"
   ]
  },
  {
   "cell_type": "code",
   "execution_count": 58,
   "metadata": {},
   "outputs": [
    {
     "data": {
      "text/plain": [
       "'175250'"
      ]
     },
     "execution_count": 58,
     "metadata": {},
     "output_type": "execute_result"
    }
   ],
   "source": [
    "test.split('.')[0].split('_')[1]"
   ]
  },
  {
   "cell_type": "code",
   "execution_count": 65,
   "metadata": {},
   "outputs": [],
   "source": [
    "final = {'bag':{'apple':[1,2,3]},'kesf':{'sfsf':[4,5,6]}}"
   ]
  },
  {
   "cell_type": "code",
   "execution_count": 66,
   "metadata": {},
   "outputs": [
    {
     "data": {
      "text/plain": [
       "{'apple': [1, 2, 3]}"
      ]
     },
     "execution_count": 66,
     "metadata": {},
     "output_type": "execute_result"
    }
   ],
   "source": [
    "final['bag']"
   ]
  },
  {
   "cell_type": "code",
   "execution_count": null,
   "metadata": {},
   "outputs": [],
   "source": [
    "test= {}\n",
    "new_list = []\n",
    "per_video_result_detection_depth_2 = per_video_result_detection_depth_1.values()\n",
    "for st in per_video_result_detection_depth_2:\n",
    "    for t in st:\n",
    "        new_list.append(t)\n",
    "\n",
    "for k, sk in new_list:\n",
    "    if k not in test:\n",
    "        test[k] = []\n",
    "        \n",
    "    test[k].append(sk)"
   ]
  },
  {
   "cell_type": "code",
   "execution_count": null,
   "metadata": {},
   "outputs": [],
   "source": [
    "\n",
    "for idx, result_detection in enumerate(sum_result_detection):\n",
    "    if idx == 0:\n",
    "        print('초기 영상', idx, sum_result_detection[idx])\n",
    "        if sum_result_detection[idx][0] not in per_video_result_detection_depth_1:\n",
    "            per_video_result_detection_depth_1[result_detection[0]] = []\n",
    "            per_video_result_detection_depth_1[result_detection[0]].append([result_detection[1],result_detection[2]])\n",
    "        else:\n",
    "            pass\n",
    "        continue\n",
    "    else:\n",
    "        if sum_result_detection[idx-1][0] == sum_result_detection[idx][0]:\n",
    "            per_video_result_detection_depth_1[result_detection[0]].append([result_detection[1],result_detection[2]])\n",
    "        else:\n",
    "            per_video_result_detection_depth_1[result_detection[0]] = []\n",
    "            per_video_result_detection_depth_1[result_detection[0]].append([result_detection[1],result_detection[2]])\n",
    "            "
   ]
  },
  {
   "cell_type": "code",
   "execution_count": 68,
   "metadata": {},
   "outputs": [
    {
     "ename": "SyntaxError",
     "evalue": "unexpected EOF while parsing (<ipython-input-68-6f19dc2918a9>, line 9)",
     "output_type": "error",
     "traceback": [
      "\u001b[1;36m  File \u001b[1;32m\"<ipython-input-68-6f19dc2918a9>\"\u001b[1;36m, line \u001b[1;32m9\u001b[0m\n\u001b[1;33m    ['200406_175250_null_23902', '200406_175250_null_59.jpg'],\u001b[0m\n\u001b[1;37m                                                              ^\u001b[0m\n\u001b[1;31mSyntaxError\u001b[0m\u001b[1;31m:\u001b[0m unexpected EOF while parsing\n"
     ]
    }
   ],
   "source": [
    "{'200406_175250_null.mp4': \n",
    " [['200406_175250_null_23902', '200406_175250_null_56.jpg'],\n",
    "  ['200406_175250_null_23902', '200406_175250_null_59.jpg'],\n",
    "  ['200406_175250_null_23902', '200406_175250_null_59.jpg'],\n",
    "  ['200406_175250_null_23902', '200406_175250_null_59.jpg'],\n",
    "  ['200406_175250_null_23902', '200406_175250_null_59.jpg'],\n",
    "  ['200406_175250_null_23902', '200406_175250_null_59.jpg'],\n",
    "  ['200406_175250_null_23902', '200406_175250_null_59.jpg'],\n",
    "  ['200406_175250_null_23902', '200406_175250_null_59.jpg']]\n",
    "  }"
   ]
  },
  {
   "cell_type": "code",
   "execution_count": null,
   "metadata": {},
   "outputs": [],
   "source": []
  },
  {
   "cell_type": "code",
   "execution_count": null,
   "metadata": {},
   "outputs": [],
   "source": []
  },
  {
   "cell_type": "code",
   "execution_count": null,
   "metadata": {},
   "outputs": [],
   "source": []
  },
  {
   "cell_type": "code",
   "execution_count": null,
   "metadata": {},
   "outputs": [],
   "source": []
  },
  {
   "cell_type": "code",
   "execution_count": null,
   "metadata": {},
   "outputs": [],
   "source": []
  },
  {
   "cell_type": "code",
   "execution_count": null,
   "metadata": {},
   "outputs": [],
   "source": []
  },
  {
   "cell_type": "code",
   "execution_count": null,
   "metadata": {},
   "outputs": [],
   "source": []
  },
  {
   "cell_type": "code",
   "execution_count": null,
   "metadata": {},
   "outputs": [],
   "source": []
  },
  {
   "cell_type": "code",
   "execution_count": null,
   "metadata": {},
   "outputs": [],
   "source": []
  },
  {
   "cell_type": "code",
   "execution_count": null,
   "metadata": {},
   "outputs": [],
   "source": []
  },
  {
   "cell_type": "code",
   "execution_count": null,
   "metadata": {},
   "outputs": [],
   "source": []
  }
 ],
 "metadata": {
  "kernelspec": {
   "display_name": "Python 3",
   "language": "python",
   "name": "python3"
  },
  "language_info": {
   "codemirror_mode": {
    "name": "ipython",
    "version": 3
   },
   "file_extension": ".py",
   "mimetype": "text/x-python",
   "name": "python",
   "nbconvert_exporter": "python",
   "pygments_lexer": "ipython3",
   "version": "3.7.4"
  }
 },
 "nbformat": 4,
 "nbformat_minor": 2
}
