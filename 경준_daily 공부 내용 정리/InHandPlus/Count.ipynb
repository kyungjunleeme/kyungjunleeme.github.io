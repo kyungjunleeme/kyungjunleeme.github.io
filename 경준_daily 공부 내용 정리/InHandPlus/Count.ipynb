{
 "cells": [
  {
   "cell_type": "code",
   "execution_count": 3,
   "metadata": {},
   "outputs": [
    {
     "ename": "TypeError",
     "evalue": "list indices must be integers or slices, not list",
     "output_type": "error",
     "traceback": [
      "\u001b[1;31m---------------------------------------------------------------------------\u001b[0m",
      "\u001b[1;31mTypeError\u001b[0m                                 Traceback (most recent call last)",
      "\u001b[1;32m<ipython-input-3-03de7bd21af3>\u001b[0m in \u001b[0;36m<module>\u001b[1;34m\u001b[0m\n\u001b[0;32m     52\u001b[0m         \u001b[1;34m'''파일 1개당 json 정보'''\u001b[0m\u001b[1;33m\u001b[0m\u001b[1;33m\u001b[0m\u001b[0m\n\u001b[0;32m     53\u001b[0m         \u001b[1;34m'''case_1: json 정보 있는 경우 _ case_2: json 정보 없는 경우'''\u001b[0m\u001b[1;33m\u001b[0m\u001b[1;33m\u001b[0m\u001b[0m\n\u001b[1;32m---> 54\u001b[1;33m         \u001b[0mfile_json_info\u001b[0m \u001b[1;33m=\u001b[0m \u001b[0mjson_data\u001b[0m\u001b[1;33m[\u001b[0m\u001b[0mfilename\u001b[0m\u001b[1;33m]\u001b[0m\u001b[1;33m\u001b[0m\u001b[1;33m\u001b[0m\u001b[0m\n\u001b[0m\u001b[0;32m     55\u001b[0m         \u001b[1;32mif\u001b[0m \u001b[1;32mnot\u001b[0m \u001b[0mfile_json_info\u001b[0m\u001b[1;33m:\u001b[0m\u001b[1;33m\u001b[0m\u001b[1;33m\u001b[0m\u001b[0m\n\u001b[0;32m     56\u001b[0m                 \u001b[0mobj_name\u001b[0m \u001b[1;33m=\u001b[0m \u001b[1;34m'Null'\u001b[0m\u001b[1;33m\u001b[0m\u001b[1;33m\u001b[0m\u001b[0m\n",
      "\u001b[1;31mTypeError\u001b[0m: list indices must be integers or slices, not list"
     ]
    }
   ],
   "source": [
    "import json\n",
    "import pandas as pd\n",
    "import numpy as np\n",
    "import collections\n",
    "from collections import Counter\n",
    "\n",
    "'''bbox[0] = 'ymin'\n",
    "   bbox[1] = 'xmin'\n",
    "   bbox[2] = 'ymax'\n",
    "   bbox[3] = 'xmax'\n",
    "# 0: ymin, 1: xmin, 2: ymax, 3: xmax'''\n",
    "'''\n",
    "def class_text_to_int(row_label):\n",
    "if row_label == 'hand':\n",
    "return 1\n",
    "elif row_label == 'grab_bottle_hand':\n",
    "return 2\n",
    "elif row_label == 'face':\n",
    "return 3\n",
    "elif row_label == 'mouth':\n",
    "return 4\n",
    "elif row_label == 'open_mouth':\n",
    "return 5\n",
    "elif row_label == 'bottle':\n",
    "return 6\n",
    "elif row_label == 'open_bottle':\n",
    "return 7\n",
    "elif row_label == 'cap':\n",
    "return 8\n",
    "elif row_label == 'pill':\n",
    "return 9\n",
    "elif row_label == 'cup':\n",
    "return 10\n",
    "else:\n",
    "None\n",
    "'''\n",
    "# ['0141_0827_1.jpg', '1280', '720', 'cup', '200', '1', '1280', '720']\n",
    " \n",
    "colum_list = ['filename', 'width', 'height', 'obj_name', 'obj_idx', 'score' ,' xmin', 'ymin', 'xmax', 'ymax']\n",
    "\n",
    "# row_list = []\n",
    "\n",
    "# per_file_per_object_info_list = []\n",
    "\n",
    "df = pd.DataFrame(columns=colum_list)\n",
    "\n",
    "\n",
    "with open('C:\\\\Users\\\\godof\\\\Desktop\\\\kyungjun\\\\company\\\\detection_result\\\\data_0313_0318_check_2360471\\\\200406_175746_null_16416.json') as json_file:\n",
    "    json_data = json.load(json_file)\n",
    "    file_name_list = list(json_data)         \n",
    "    for filename in file_name_list:\n",
    "        '''파일 1개당 json 정보'''\n",
    "        '''case_1: json 정보 있는 경우 _ case_2: json 정보 없는 경우'''\n",
    "        file_json_info = json_data[filename]\n",
    "        if not file_json_info:\n",
    "                obj_name = 'Null'\n",
    "                obj_idx = 'Null'\n",
    "                score = 0\n",
    "                ymin = 0\n",
    "                xmin = 0\n",
    "                ymax = 0\n",
    "                xmax = 0\n",
    "                width = 0\n",
    "                height = 0\n",
    "                df = df.append(pd.DataFrame([[filename+'_', width, height, obj_name, obj_idx, score, xmin, ymin, xmax, ymax ]], columns=colum_list), ignore_index=True)\n",
    "                print(df)\n",
    "        else:\n",
    "            '''파일 1개당 감지된_되어야하는_object 갯수'''\n",
    "            obj_cnt_list = list(file_json_info)\n",
    "            print(obj_cnt_list)\n",
    "            '''per_obj_cnt 수정 필요(삭제)'''\n",
    "            per_obj_cnt = len(obj_cnt_list)\n",
    "            for i in obj_cnt_list:\n",
    "                final_info = file_json_info[i]\n",
    "                print(final_info)\n",
    "                try:\n",
    "                    obj_name = final_info['name']\n",
    "                    obj_idx = final_info['obj']\n",
    "                    score = final_info['score']\n",
    "                    ymin = final_info['bbox'][0]\n",
    "                    xmin = final_info['bbox'][1]\n",
    "                    ymax = final_info['bbox'][2]\n",
    "                    xmax = final_info['bbox'][3]\n",
    "                    width = final_info['size'][0]\n",
    "                    height = final_info['size'][1]\n",
    "                    df = df.append(pd.DataFrame([[filename+'_', width, height, obj_name, obj_idx, score, xmin, ymin, xmax, ymax ]], columns=colum_list), ignore_index=True)\n",
    "                except:\n",
    "                    pass\n",
    "\n",
    "        \n",
    "        \n",
    "        '''(위에서 json 정보 없는 경우에서 걸러짐) case_1: object 있는경우 // case_2: object 없는 경우'''\n",
    "        \n",
    "        '''json 내 obj, name, score, bbox, size'''\n",
    "\n"
   ]
  },
  {
   "cell_type": "code",
   "execution_count": 10,
   "metadata": {},
   "outputs": [],
   "source": [
    "df.to_csv('C:\\\\Users\\\\godof\\\\Desktop\\\\kyungjun\\\\company\\\\detection_result\\\\data_0313_0318_check_2360471\\\\2020_03_18_Test_LHW_10.csv',index = False, encoding='utf-8')"
   ]
  },
  {
   "cell_type": "code",
   "execution_count": 40,
   "metadata": {},
   "outputs": [],
   "source": [
    "dict1 = [{'a':2, 'b':3},{'a':3, 'b':4}]"
   ]
  },
  {
   "cell_type": "code",
   "execution_count": 41,
   "metadata": {},
   "outputs": [],
   "source": [
    "counter = collections.Counter()\n",
    "for d in dict1: \n",
    "    counter.update(d)"
   ]
  },
  {
   "cell_type": "code",
   "execution_count": 43,
   "metadata": {},
   "outputs": [
    {
     "data": {
      "text/plain": [
       "{'a': 3, 'b': 4}"
      ]
     },
     "execution_count": 43,
     "metadata": {},
     "output_type": "execute_result"
    }
   ],
   "source": [
    "d"
   ]
  },
  {
   "cell_type": "code",
   "execution_count": 45,
   "metadata": {},
   "outputs": [
    {
     "name": "stdout",
     "output_type": "stream",
     "text": [
      "{'a': 5, 'b': 7}\n"
     ]
    }
   ],
   "source": [
    "dict1 = [{'a':2, 'b':3},{'a':3, 'b':4}]\n",
    "\n",
    "final = {}\n",
    "for d in dict1:\n",
    "    for k in d.keys():\n",
    "        final[k] = final.get(k,0) + d[k]\n",
    "\n",
    "print(final)"
   ]
  },
  {
   "cell_type": "code",
   "execution_count": null,
   "metadata": {},
   "outputs": [],
   "source": []
  },
  {
   "cell_type": "code",
   "execution_count": 17,
   "metadata": {},
   "outputs": [
    {
     "data": {
      "text/html": [
       "<div>\n",
       "<style scoped>\n",
       "    .dataframe tbody tr th:only-of-type {\n",
       "        vertical-align: middle;\n",
       "    }\n",
       "\n",
       "    .dataframe tbody tr th {\n",
       "        vertical-align: top;\n",
       "    }\n",
       "\n",
       "    .dataframe thead th {\n",
       "        text-align: right;\n",
       "    }\n",
       "</style>\n",
       "<table border=\"1\" class=\"dataframe\">\n",
       "  <thead>\n",
       "    <tr style=\"text-align: right;\">\n",
       "      <th></th>\n",
       "      <th>json_source</th>\n",
       "      <th>filename</th>\n",
       "      <th>width</th>\n",
       "      <th>height</th>\n",
       "      <th>obj_name</th>\n",
       "      <th>xmin</th>\n",
       "      <th>ymin</th>\n",
       "      <th>xmax</th>\n",
       "      <th>ymax</th>\n",
       "      <th>score</th>\n",
       "      <th>obj_idx</th>\n",
       "      <th>per_obj_cnt</th>\n",
       "      <th>model</th>\n",
       "      <th>result_per_obj_id_int</th>\n",
       "      <th>result_per_obj_id_str</th>\n",
       "      <th>per_obj_pk</th>\n",
       "    </tr>\n",
       "  </thead>\n",
       "  <tbody>\n",
       "    <tr>\n",
       "      <td>0</td>\n",
       "      <td>1106_object_list.json</td>\n",
       "      <td>20IHPA1A_Test_LHW_01_1.jpg_</td>\n",
       "      <td>Null</td>\n",
       "      <td>Null</td>\n",
       "      <td>Null</td>\n",
       "      <td>Null</td>\n",
       "      <td>Null</td>\n",
       "      <td>Null</td>\n",
       "      <td>Null</td>\n",
       "      <td>Null</td>\n",
       "      <td>Null</td>\n",
       "      <td>0</td>\n",
       "      <td>inhand_20191112_</td>\n",
       "      <td>1</td>\n",
       "      <td>1</td>\n",
       "      <td>inhand_20191112_20IHPA1A_Test_LHW_01_1.jpg_1</td>\n",
       "    </tr>\n",
       "    <tr>\n",
       "      <td>1</td>\n",
       "      <td>1106_object_list.json</td>\n",
       "      <td>20IHPA1A_Test_LHW_01_2.jpg_</td>\n",
       "      <td>1280</td>\n",
       "      <td>720</td>\n",
       "      <td>grab_bottle_body</td>\n",
       "      <td>434.304</td>\n",
       "      <td>9.2448</td>\n",
       "      <td>1151.87</td>\n",
       "      <td>318.384</td>\n",
       "      <td>0.952</td>\n",
       "      <td>8</td>\n",
       "      <td>1</td>\n",
       "      <td>inhand_20191112_</td>\n",
       "      <td>1</td>\n",
       "      <td>1</td>\n",
       "      <td>inhand_20191112_20IHPA1A_Test_LHW_01_2.jpg_1</td>\n",
       "    </tr>\n",
       "    <tr>\n",
       "      <td>2</td>\n",
       "      <td>1106_object_list.json</td>\n",
       "      <td>20IHPA1A_Test_LHW_01_3.jpg_</td>\n",
       "      <td>1280</td>\n",
       "      <td>720</td>\n",
       "      <td>grab_bottle_body</td>\n",
       "      <td>416.768</td>\n",
       "      <td>5.09616</td>\n",
       "      <td>1085.31</td>\n",
       "      <td>304.488</td>\n",
       "      <td>0.8984</td>\n",
       "      <td>8</td>\n",
       "      <td>1</td>\n",
       "      <td>inhand_20191112_</td>\n",
       "      <td>1</td>\n",
       "      <td>1</td>\n",
       "      <td>inhand_20191112_20IHPA1A_Test_LHW_01_3.jpg_1</td>\n",
       "    </tr>\n",
       "    <tr>\n",
       "      <td>3</td>\n",
       "      <td>1106_object_list.json</td>\n",
       "      <td>20IHPA1A_Test_LHW_01_4.jpg_</td>\n",
       "      <td>1280</td>\n",
       "      <td>720</td>\n",
       "      <td>grab_bottle_body</td>\n",
       "      <td>420.224</td>\n",
       "      <td>10.7208</td>\n",
       "      <td>1064.96</td>\n",
       "      <td>310.104</td>\n",
       "      <td>0.8468</td>\n",
       "      <td>8</td>\n",
       "      <td>1</td>\n",
       "      <td>inhand_20191112_</td>\n",
       "      <td>1</td>\n",
       "      <td>1</td>\n",
       "      <td>inhand_20191112_20IHPA1A_Test_LHW_01_4.jpg_1</td>\n",
       "    </tr>\n",
       "    <tr>\n",
       "      <td>4</td>\n",
       "      <td>1106_object_list.json</td>\n",
       "      <td>20IHPA1A_Test_LHW_01_5.jpg_</td>\n",
       "      <td>Null</td>\n",
       "      <td>Null</td>\n",
       "      <td>Null</td>\n",
       "      <td>Null</td>\n",
       "      <td>Null</td>\n",
       "      <td>Null</td>\n",
       "      <td>Null</td>\n",
       "      <td>Null</td>\n",
       "      <td>Null</td>\n",
       "      <td>0</td>\n",
       "      <td>inhand_20191112_</td>\n",
       "      <td>1</td>\n",
       "      <td>1</td>\n",
       "      <td>inhand_20191112_20IHPA1A_Test_LHW_01_5.jpg_1</td>\n",
       "    </tr>\n",
       "    <tr>\n",
       "      <td>...</td>\n",
       "      <td>...</td>\n",
       "      <td>...</td>\n",
       "      <td>...</td>\n",
       "      <td>...</td>\n",
       "      <td>...</td>\n",
       "      <td>...</td>\n",
       "      <td>...</td>\n",
       "      <td>...</td>\n",
       "      <td>...</td>\n",
       "      <td>...</td>\n",
       "      <td>...</td>\n",
       "      <td>...</td>\n",
       "      <td>...</td>\n",
       "      <td>...</td>\n",
       "      <td>...</td>\n",
       "      <td>...</td>\n",
       "    </tr>\n",
       "    <tr>\n",
       "      <td>496</td>\n",
       "      <td>1106_object_list.json</td>\n",
       "      <td>20IHPA1A_Test_LHW_01_496.jpg_</td>\n",
       "      <td>Null</td>\n",
       "      <td>Null</td>\n",
       "      <td>Null</td>\n",
       "      <td>Null</td>\n",
       "      <td>Null</td>\n",
       "      <td>Null</td>\n",
       "      <td>Null</td>\n",
       "      <td>Null</td>\n",
       "      <td>Null</td>\n",
       "      <td>0</td>\n",
       "      <td>inhand_20191112_</td>\n",
       "      <td>1</td>\n",
       "      <td>1</td>\n",
       "      <td>inhand_20191112_20IHPA1A_Test_LHW_01_496.jpg_1</td>\n",
       "    </tr>\n",
       "    <tr>\n",
       "      <td>497</td>\n",
       "      <td>1106_object_list.json</td>\n",
       "      <td>20IHPA1A_Test_LHW_01_497.jpg_</td>\n",
       "      <td>Null</td>\n",
       "      <td>Null</td>\n",
       "      <td>Null</td>\n",
       "      <td>Null</td>\n",
       "      <td>Null</td>\n",
       "      <td>Null</td>\n",
       "      <td>Null</td>\n",
       "      <td>Null</td>\n",
       "      <td>Null</td>\n",
       "      <td>0</td>\n",
       "      <td>inhand_20191112_</td>\n",
       "      <td>1</td>\n",
       "      <td>1</td>\n",
       "      <td>inhand_20191112_20IHPA1A_Test_LHW_01_497.jpg_1</td>\n",
       "    </tr>\n",
       "    <tr>\n",
       "      <td>498</td>\n",
       "      <td>1106_object_list.json</td>\n",
       "      <td>20IHPA1A_Test_LHW_01_498.jpg_</td>\n",
       "      <td>Null</td>\n",
       "      <td>Null</td>\n",
       "      <td>Null</td>\n",
       "      <td>Null</td>\n",
       "      <td>Null</td>\n",
       "      <td>Null</td>\n",
       "      <td>Null</td>\n",
       "      <td>Null</td>\n",
       "      <td>Null</td>\n",
       "      <td>0</td>\n",
       "      <td>inhand_20191112_</td>\n",
       "      <td>1</td>\n",
       "      <td>1</td>\n",
       "      <td>inhand_20191112_20IHPA1A_Test_LHW_01_498.jpg_1</td>\n",
       "    </tr>\n",
       "    <tr>\n",
       "      <td>499</td>\n",
       "      <td>1106_object_list.json</td>\n",
       "      <td>20IHPA1A_Test_LHW_01_499.jpg_</td>\n",
       "      <td>Null</td>\n",
       "      <td>Null</td>\n",
       "      <td>Null</td>\n",
       "      <td>Null</td>\n",
       "      <td>Null</td>\n",
       "      <td>Null</td>\n",
       "      <td>Null</td>\n",
       "      <td>Null</td>\n",
       "      <td>Null</td>\n",
       "      <td>0</td>\n",
       "      <td>inhand_20191112_</td>\n",
       "      <td>1</td>\n",
       "      <td>1</td>\n",
       "      <td>inhand_20191112_20IHPA1A_Test_LHW_01_499.jpg_1</td>\n",
       "    </tr>\n",
       "    <tr>\n",
       "      <td>500</td>\n",
       "      <td>1106_object_list.json</td>\n",
       "      <td>20IHPA1A_Test_LHW_01_500.jpg_</td>\n",
       "      <td>Null</td>\n",
       "      <td>Null</td>\n",
       "      <td>Null</td>\n",
       "      <td>Null</td>\n",
       "      <td>Null</td>\n",
       "      <td>Null</td>\n",
       "      <td>Null</td>\n",
       "      <td>Null</td>\n",
       "      <td>Null</td>\n",
       "      <td>0</td>\n",
       "      <td>inhand_20191112_</td>\n",
       "      <td>1</td>\n",
       "      <td>1</td>\n",
       "      <td>inhand_20191112_20IHPA1A_Test_LHW_01_500.jpg_1</td>\n",
       "    </tr>\n",
       "  </tbody>\n",
       "</table>\n",
       "<p>501 rows × 16 columns</p>\n",
       "</div>"
      ],
      "text/plain": [
       "               json_source                       filename width height  \\\n",
       "0    1106_object_list.json    20IHPA1A_Test_LHW_01_1.jpg_  Null   Null   \n",
       "1    1106_object_list.json    20IHPA1A_Test_LHW_01_2.jpg_  1280    720   \n",
       "2    1106_object_list.json    20IHPA1A_Test_LHW_01_3.jpg_  1280    720   \n",
       "3    1106_object_list.json    20IHPA1A_Test_LHW_01_4.jpg_  1280    720   \n",
       "4    1106_object_list.json    20IHPA1A_Test_LHW_01_5.jpg_  Null   Null   \n",
       "..                     ...                            ...   ...    ...   \n",
       "496  1106_object_list.json  20IHPA1A_Test_LHW_01_496.jpg_  Null   Null   \n",
       "497  1106_object_list.json  20IHPA1A_Test_LHW_01_497.jpg_  Null   Null   \n",
       "498  1106_object_list.json  20IHPA1A_Test_LHW_01_498.jpg_  Null   Null   \n",
       "499  1106_object_list.json  20IHPA1A_Test_LHW_01_499.jpg_  Null   Null   \n",
       "500  1106_object_list.json  20IHPA1A_Test_LHW_01_500.jpg_  Null   Null   \n",
       "\n",
       "             obj_name     xmin     ymin     xmax     ymax   score obj_idx  \\\n",
       "0                Null     Null     Null     Null     Null    Null    Null   \n",
       "1    grab_bottle_body  434.304   9.2448  1151.87  318.384   0.952       8   \n",
       "2    grab_bottle_body  416.768  5.09616  1085.31  304.488  0.8984       8   \n",
       "3    grab_bottle_body  420.224  10.7208  1064.96  310.104  0.8468       8   \n",
       "4                Null     Null     Null     Null     Null    Null    Null   \n",
       "..                ...      ...      ...      ...      ...     ...     ...   \n",
       "496              Null     Null     Null     Null     Null    Null    Null   \n",
       "497              Null     Null     Null     Null     Null    Null    Null   \n",
       "498              Null     Null     Null     Null     Null    Null    Null   \n",
       "499              Null     Null     Null     Null     Null    Null    Null   \n",
       "500              Null     Null     Null     Null     Null    Null    Null   \n",
       "\n",
       "    per_obj_cnt             model  result_per_obj_id_int  \\\n",
       "0             0  inhand_20191112_                      1   \n",
       "1             1  inhand_20191112_                      1   \n",
       "2             1  inhand_20191112_                      1   \n",
       "3             1  inhand_20191112_                      1   \n",
       "4             0  inhand_20191112_                      1   \n",
       "..          ...               ...                    ...   \n",
       "496           0  inhand_20191112_                      1   \n",
       "497           0  inhand_20191112_                      1   \n",
       "498           0  inhand_20191112_                      1   \n",
       "499           0  inhand_20191112_                      1   \n",
       "500           0  inhand_20191112_                      1   \n",
       "\n",
       "    result_per_obj_id_str                                      per_obj_pk  \n",
       "0                       1    inhand_20191112_20IHPA1A_Test_LHW_01_1.jpg_1  \n",
       "1                       1    inhand_20191112_20IHPA1A_Test_LHW_01_2.jpg_1  \n",
       "2                       1    inhand_20191112_20IHPA1A_Test_LHW_01_3.jpg_1  \n",
       "3                       1    inhand_20191112_20IHPA1A_Test_LHW_01_4.jpg_1  \n",
       "4                       1    inhand_20191112_20IHPA1A_Test_LHW_01_5.jpg_1  \n",
       "..                    ...                                             ...  \n",
       "496                     1  inhand_20191112_20IHPA1A_Test_LHW_01_496.jpg_1  \n",
       "497                     1  inhand_20191112_20IHPA1A_Test_LHW_01_497.jpg_1  \n",
       "498                     1  inhand_20191112_20IHPA1A_Test_LHW_01_498.jpg_1  \n",
       "499                     1  inhand_20191112_20IHPA1A_Test_LHW_01_499.jpg_1  \n",
       "500                     1  inhand_20191112_20IHPA1A_Test_LHW_01_500.jpg_1  \n",
       "\n",
       "[501 rows x 16 columns]"
      ]
     },
     "execution_count": 17,
     "metadata": {},
     "output_type": "execute_result"
    }
   ],
   "source": [
    "df['per_obj_cnt'] = np.where(df['obj_idx'] != 'Null' , '1', '0')\n",
    "df['model'] = 'inhand_20191112'+'_'\n",
    "df['result_per_obj_id_int'] = df.groupby(['filename','per_obj_cnt']).cumcount()+1\n",
    "df['result_per_obj_id_str'] = df['result_per_obj_id_int']\n",
    "\n",
    "'''\n",
    "apply 쓰기 위해 int-> str 형 변환\n",
    "'''\n",
    "\n",
    "df['result_per_obj_id_str'] = df['result_per_obj_id_str'].apply(str)\n",
    "\n",
    "'''\n",
    "str 형태만 결합할 수 있음, int형태는 결합 안 됨\n",
    "https://www.geeksforgeeks.org/create-a-new-column-in-pandas-dataframe-based-on-the-existing-columns/\n",
    "(참고)\n",
    "cols = list(df.columns.values)\n",
    "'''\n",
    "\n",
    "df['per_obj_pk'] = df.apply(lambda row: row.model + row.filename+ row.result_per_obj_id_str , axis=1)\n",
    "df = df.reindex(columns=['json_source', 'per_obj_pk', 'model', 'filename', 'result_per_obj_id_str', 'obj_name', 'obj_idx', 'score', 'xmin', 'ymax', 'xmax', 'ymin', 'width', 'height', 'per_obj_cnt', 'result_per_obj_id_int'])\n"
   ]
  },
  {
   "cell_type": "code",
   "execution_count": 10,
   "metadata": {},
   "outputs": [],
   "source": [
    "df = df.iloc[:, 0:6]"
   ]
  },
  {
   "cell_type": "code",
   "execution_count": 11,
   "metadata": {},
   "outputs": [],
   "source": [
    "df.to_csv('C:\\\\Users\\\\godof\\\\Desktop\\\\0227.csv',index = False, encoding='utf-8')"
   ]
  },
  {
   "cell_type": "code",
   "execution_count": 14,
   "metadata": {},
   "outputs": [],
   "source": [
    "goal = {'grab_bottle_cap':  0.1,\n",
    "        'face':             0.1,}"
   ]
  },
  {
   "cell_type": "code",
   "execution_count": 15,
   "metadata": {},
   "outputs": [
    {
     "data": {
      "text/plain": [
       "2"
      ]
     },
     "execution_count": 15,
     "metadata": {},
     "output_type": "execute_result"
    }
   ],
   "source": [
    "len(goal)"
   ]
  },
  {
   "cell_type": "code",
   "execution_count": 18,
   "metadata": {},
   "outputs": [
    {
     "data": {
      "text/plain": [
       "dict_keys(['grab_bottle_cap', 'face'])"
      ]
     },
     "execution_count": 18,
     "metadata": {},
     "output_type": "execute_result"
    }
   ],
   "source": [
    "goal.keys()"
   ]
  },
  {
   "cell_type": "code",
   "execution_count": 20,
   "metadata": {},
   "outputs": [
    {
     "data": {
      "text/plain": [
       "['grab_bottle_cap', 'face']"
      ]
     },
     "execution_count": 20,
     "metadata": {},
     "output_type": "execute_result"
    }
   ],
   "source": [
    "list(goal.keys())"
   ]
  },
  {
   "cell_type": "code",
   "execution_count": 21,
   "metadata": {},
   "outputs": [],
   "source": [
    "new_obj = dict()"
   ]
  },
  {
   "cell_type": "code",
   "execution_count": 22,
   "metadata": {},
   "outputs": [],
   "source": [
    "new_obj['a'] = \"bottle\""
   ]
  },
  {
   "cell_type": "code",
   "execution_count": 23,
   "metadata": {},
   "outputs": [
    {
     "data": {
      "text/plain": [
       "{'a': 'bottle'}"
      ]
     },
     "execution_count": 23,
     "metadata": {},
     "output_type": "execute_result"
    }
   ],
   "source": [
    "new_obj"
   ]
  },
  {
   "cell_type": "code",
   "execution_count": 24,
   "metadata": {},
   "outputs": [],
   "source": [
    "dict1 = [{'a':2, 'b':3},{'a':3, 'b':4}]"
   ]
  },
  {
   "cell_type": "code",
   "execution_count": null,
   "metadata": {},
   "outputs": [],
   "source": []
  }
 ],
 "metadata": {
  "kernelspec": {
   "display_name": "Python 3",
   "language": "python",
   "name": "python3"
  },
  "language_info": {
   "codemirror_mode": {
    "name": "ipython",
    "version": 3
   },
   "file_extension": ".py",
   "mimetype": "text/x-python",
   "name": "python",
   "nbconvert_exporter": "python",
   "pygments_lexer": "ipython3",
   "version": "3.7.4"
  }
 },
 "nbformat": 4,
 "nbformat_minor": 2
}
