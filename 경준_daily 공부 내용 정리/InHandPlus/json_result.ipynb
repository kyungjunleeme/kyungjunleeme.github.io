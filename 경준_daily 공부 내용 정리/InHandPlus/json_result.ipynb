{
 "cells": [
  {
   "cell_type": "code",
   "execution_count": 40,
   "metadata": {},
   "outputs": [
    {
     "name": "stdout",
     "output_type": "stream",
     "text": [
      "6\n",
      "bottle\n",
      "0.9989\n",
      "[62.279999999999994, 900.864, 263.66400000000004, 1190.784]\n"
     ]
    }
   ],
   "source": [
    "import json\n",
    "\n",
    "with open('object_list.json') as json_file:\n",
    "    json_data = json.load(json_file)\n",
    "    file_name = list(json_data)\n",
    "    obj_1 = json_data[file_name[0]]\n",
    "    obj_count = list(obj_1)\n",
    "    '''\n",
    "    - json 에서 팡리 정\n",
    "    - step_1. 파일이름.jpg:{} - value 값이 비어 있는지/채워져 있는지 먼저 확인하기\n",
    "    - step_2. 비어져 있으면 정보 가져올 필요 없고, 채워져 있으면 감지되어야 몇 개의 객체가 있는지 확인 필요\n",
    "    >>> 객체 갯수를 세는 방법: list로 변환하면 갯수를 확인할 수 있음\n",
    "    - step_3.     \n",
    "    \n",
    "    '''\n",
    "    \n",
    "    \n",
    "    info_1 = obj_1['0']\n",
    "    print(info_1['obj'])\n",
    "    print(info_1['name'])\n",
    "    print(info_1['score'])\n",
    "    print(info_1['bbox'])"
   ]
  },
  {
   "cell_type": "code",
   "execution_count": null,
   "metadata": {},
   "outputs": [],
   "source": [
    "'''\n",
    "    \"0008_medi_083.jpg\": {\n",
    "        \"0\": {\n",
    "        \n",
    "        - 사진 속 object 갯수를 나타냄 index가 0으로 시작됨\n",
    "        \n",
    "            \"obj\": 6,  - bottle이 해당되는 index가 6임\n",
    "            \"name\": \"bottle\",\n",
    "            \"score\": 0.9974,\n",
    "            \"bbox\": [\n",
    "                63.9936,\n",
    "                891.008,\n",
    "                276.12,\n",
    "                1186.816\n",
    "            ],\n",
    "            \"size\": [\n",
    "                1280,\n",
    "                720\n",
    "            ]\n",
    "        },\n",
    "'''\n",
    "\n",
    "'''\n",
    "def class_text_to_int(row_label):\n",
    "    if row_label == 'hand':\n",
    "        return 1\n",
    "    elif row_label == 'grab_bottle_hand':\n",
    "        return 2\n",
    "    elif row_label == 'face':\n",
    "        return 3\n",
    "    elif row_label == 'mouth':\n",
    "        return 4\n",
    "    elif row_label == 'open_mouth':\n",
    "        return 5\n",
    "    elif row_label == 'bottle':\n",
    "        return 6\n",
    "    elif row_label == 'open_bottle':\n",
    "        return 7\n",
    "    elif row_label == 'cap':\n",
    "        return 8\n",
    "    elif row_label == 'pill':\n",
    "        return 9\n",
    "    elif row_label == 'cup':\n",
    "        return 10\n",
    "    else:\n",
    "        None\n",
    "\n",
    "'''"
   ]
  }
 ],
 "metadata": {
  "kernelspec": {
   "display_name": "Python 3",
   "language": "python",
   "name": "python3"
  },
  "language_info": {
   "codemirror_mode": {
    "name": "ipython",
    "version": 3
   },
   "file_extension": ".py",
   "mimetype": "text/x-python",
   "name": "python",
   "nbconvert_exporter": "python",
   "pygments_lexer": "ipython3",
   "version": "3.7.3"
  }
 },
 "nbformat": 4,
 "nbformat_minor": 2
}
