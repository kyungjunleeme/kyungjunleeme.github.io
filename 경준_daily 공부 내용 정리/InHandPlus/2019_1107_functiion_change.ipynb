{
 "cells": [
  {
   "cell_type": "code",
   "execution_count": 14,
   "metadata": {},
   "outputs": [
    {
     "name": "stdout",
     "output_type": "stream",
     "text": [
      "{'0': {'obj': 6, 'name': 'bottle', 'score': 0.9989, 'bbox': [62.279999999999994, 900.864, 263.66400000000004, 1190.784], 'size': [1280, 720]}, '1': {'obj': 3, 'name': 'face', 'score': 0.9819, 'bbox': [196.84799999999998, 537.472, 719.496, 1267.456], 'size': [1280, 720]}, '2': {'obj': 2, 'name': 'grab_bottle_hand', 'score': 0.8719, 'bbox': [176.84799999999998, 527.472, 739.496, 1367.456], 'size': [1280, 720]}}\n",
      "['0', '1', '2']\n",
      "아직0발(+1)발 남았다\n",
      "아직1발(+1)발 남았다\n",
      "{'0': {'obj': 7, 'name': 'open_bottle', 'score': 0.9833, 'bbox': [23.5656, 5.925120000000001, 720.0, 652.0319999999999], 'size': [1280, 720]}, '1': {'obj': 3, 'name': 'face', 'score': 0.9819, 'bbox': [196.84799999999998, 537.472, 719.496, 1267.456], 'size': [1280, 720]}}\n",
      "['0', '1']\n",
      "아직0발(+1)발 남았다\n"
     ]
    }
   ],
   "source": [
    "import json\n",
    "import pandas as pd\n",
    "from pandas import DataFrame\n",
    "import numpy as np\n",
    "\n",
    "'''bbox[0] = 'ymin'\n",
    "   bbox[1] = 'xmin'\n",
    "   bbox[2] = 'ymax'\n",
    "   bbox[3] = 'xmax'\n",
    "# 0: ymin, 1: xmin, 2: ymax, 3: xmax'''\n",
    "# colum_list = ['filename', 'obj_list', 'obj_sum_cnt']\n",
    "# ans_obj_list=[]\n",
    "object_list = []\n",
    "\n",
    "# row_list = []\n",
    "\n",
    "# per_file_per_object_info_list = []\n",
    "\n",
    "df = DataFrame(columns=('filename', 'obj_sum_cnt','obj_list'))\n",
    "\n",
    "\n",
    "\n",
    "\n",
    "\n",
    "def mk_file_list(source_file):\n",
    "    with open(source_file) as json_file:\n",
    "        json_data = json.load(json_file)\n",
    "        file_name_list = list(json_data)\n",
    "        for filename in file_name_list:\n",
    "            file_info = json_data[filename]\n",
    "            object_list[:]=[]\n",
    "            print(file_info)\n",
    "            obj_cnt_list = list(file_info)\n",
    "            obj_cnt = len(obj_cnt_list)\n",
    "            print(obj_cnt_list)\n",
    "            for obj_idx in obj_cnt_list[:]:\n",
    "                try:\n",
    "                    pop_ele = obj_cnt_list.pop(len(obj_idx)-1)\n",
    "                    object_list.append(file_info[pop_ele]['name'])\n",
    "                    if not obj_cnt_list:\n",
    "                        print(df)\n",
    "                        df = df.append(pd.DataFrame([[filename, obj_list, obj_sum_cnt]], columns=colum_list), ignore_index=True)\n",
    "\n",
    "                    else:\n",
    "                        print('아직' + obj_idx+\"발(+1)\"+'발 남았다')\n",
    "                except:\n",
    "                    ''' pop_ele에 원소 없으면 오류 발생할테니 '''\n",
    "                    continue\n",
    "\n",
    "\n",
    "mk_file_list('object_list_test.json')\n",
    "\n",
    "\n",
    "            "
   ]
  },
  {
   "cell_type": "code",
   "execution_count": 12,
   "metadata": {},
   "outputs": [
    {
     "data": {
      "text/html": [
       "<div>\n",
       "<style scoped>\n",
       "    .dataframe tbody tr th:only-of-type {\n",
       "        vertical-align: middle;\n",
       "    }\n",
       "\n",
       "    .dataframe tbody tr th {\n",
       "        vertical-align: top;\n",
       "    }\n",
       "\n",
       "    .dataframe thead th {\n",
       "        text-align: right;\n",
       "    }\n",
       "</style>\n",
       "<table border=\"1\" class=\"dataframe\">\n",
       "  <thead>\n",
       "    <tr style=\"text-align: right;\">\n",
       "      <th></th>\n",
       "      <th>filename</th>\n",
       "      <th>obj_sum_cnt</th>\n",
       "      <th>obj_list</th>\n",
       "    </tr>\n",
       "  </thead>\n",
       "  <tbody>\n",
       "  </tbody>\n",
       "</table>\n",
       "</div>"
      ],
      "text/plain": [
       "Empty DataFrame\n",
       "Columns: [filename, obj_sum_cnt, obj_list]\n",
       "Index: []"
      ]
     },
     "execution_count": 12,
     "metadata": {},
     "output_type": "execute_result"
    }
   ],
   "source": [
    "df"
   ]
  },
  {
   "cell_type": "code",
   "execution_count": 124,
   "metadata": {},
   "outputs": [
    {
     "ename": "IndexError",
     "evalue": "list assignment index out of range",
     "output_type": "error",
     "traceback": [
      "\u001b[1;31m---------------------------------------------------------------------------\u001b[0m",
      "\u001b[1;31mIndexError\u001b[0m                                Traceback (most recent call last)",
      "\u001b[1;32m<ipython-input-124-457889247046>\u001b[0m in \u001b[0;36m<module>\u001b[1;34m\u001b[0m\n\u001b[0;32m      1\u001b[0m \u001b[0mallTheLists\u001b[0m \u001b[1;33m=\u001b[0m \u001b[1;33m[\u001b[0m\u001b[1;33m]\u001b[0m\u001b[1;33m\u001b[0m\u001b[1;33m\u001b[0m\u001b[0m\n\u001b[0;32m      2\u001b[0m \u001b[1;32mfor\u001b[0m \u001b[0mj\u001b[0m \u001b[1;32min\u001b[0m \u001b[0mrange\u001b[0m\u001b[1;33m(\u001b[0m\u001b[0mint\u001b[0m\u001b[1;33m(\u001b[0m\u001b[1;36m3\u001b[0m\u001b[1;33m)\u001b[0m\u001b[1;33m)\u001b[0m\u001b[1;33m:\u001b[0m\u001b[1;33m\u001b[0m\u001b[1;33m\u001b[0m\u001b[0m\n\u001b[1;32m----> 3\u001b[1;33m     \u001b[0mallTheLists\u001b[0m\u001b[1;33m[\u001b[0m\u001b[0mj\u001b[0m\u001b[1;33m]\u001b[0m \u001b[1;33m=\u001b[0m \u001b[1;33m[\u001b[0m\u001b[1;33m]\u001b[0m\u001b[1;33m\u001b[0m\u001b[1;33m\u001b[0m\u001b[0m\n\u001b[0m\u001b[0;32m      4\u001b[0m \u001b[1;31m# more pythonic:\u001b[0m\u001b[1;33m\u001b[0m\u001b[1;33m\u001b[0m\u001b[1;33m\u001b[0m\u001b[0m\n\u001b[0;32m      5\u001b[0m \u001b[1;31m# L = int(3)\u001b[0m\u001b[1;33m\u001b[0m\u001b[1;33m\u001b[0m\u001b[1;33m\u001b[0m\u001b[0m\n",
      "\u001b[1;31mIndexError\u001b[0m: list assignment index out of range"
     ]
    }
   ],
   "source": []
  },
  {
   "cell_type": "code",
   "execution_count": 10,
   "metadata": {},
   "outputs": [],
   "source": [
    "\n",
    "\n",
    "def mk_total_obj_df(file_list):\n",
    "    with open('object_list_test.json') as json_file:\n",
    "        json_data = json.load(json_file)\n",
    "        file_name_list = list(json_data)\n",
    "        for idx, filename in enumerate(mk_file_list):\n",
    "            print(idx, filename , 'index 출력')\n",
    "\n",
    "            print(filename, obj_list, \"for문 시작\")\n",
    "\n",
    "            file_info = json_data[filename]\n",
    "            print(obj_list)\n",
    "            '''['0', '1', '2', '3', '4']'''\n",
    "\n",
    "            obj_cnt_list = list(file_info)\n",
    "            obj_sum_cnt = len(obj_cnt_list)\n",
    "            print(obj_cnt_list)\n",
    "            for obj_idx in obj_cnt_list[:]:\n",
    "                try:\n",
    "                    pop_ele = obj_cnt_list.pop(len(obj_idx)-1)\n",
    "                    obj_list.append(file_info[pop_ele]['name'])\n",
    "                    if not obj_cnt_list:\n",
    "                        print(idx)\n",
    "                        print(filename, obj_sum_cnt, obj_list, \"데이터를 넣어라\")\n",
    "                        print(\"자 이제 데이터 프레임에 행을 추가하자\")\n",
    "                        df.loc[idx] = [filename, obj_list, obj_sum_cnt]\n",
    "                    else:\n",
    "                        print('깨꿍?')\n",
    "                        print(filename, obj_sum_cnt, obj_list)\n",
    "                except:\n",
    "                    ''' pop_ele에 원소 없으면 오류 발생할테니 '''\n",
    "                    continue\n",
    "                print(df)"
   ]
  },
  {
   "cell_type": "code",
   "execution_count": null,
   "metadata": {},
   "outputs": [],
   "source": []
  },
  {
   "cell_type": "code",
   "execution_count": 9,
   "metadata": {},
   "outputs": [
    {
     "data": {
      "text/html": [
       "<div>\n",
       "<style scoped>\n",
       "    .dataframe tbody tr th:only-of-type {\n",
       "        vertical-align: middle;\n",
       "    }\n",
       "\n",
       "    .dataframe tbody tr th {\n",
       "        vertical-align: top;\n",
       "    }\n",
       "\n",
       "    .dataframe thead th {\n",
       "        text-align: right;\n",
       "    }\n",
       "</style>\n",
       "<table border=\"1\" class=\"dataframe\">\n",
       "  <thead>\n",
       "    <tr style=\"text-align: right;\">\n",
       "      <th></th>\n",
       "      <th>filename</th>\n",
       "      <th>obj_sum_cnt</th>\n",
       "      <th>obj_list</th>\n",
       "    </tr>\n",
       "  </thead>\n",
       "  <tbody>\n",
       "  </tbody>\n",
       "</table>\n",
       "</div>"
      ],
      "text/plain": [
       "Empty DataFrame\n",
       "Columns: [filename, obj_sum_cnt, obj_list]\n",
       "Index: []"
      ]
     },
     "execution_count": 9,
     "metadata": {},
     "output_type": "execute_result"
    }
   ],
   "source": [
    "df"
   ]
  },
  {
   "cell_type": "code",
   "execution_count": 22,
   "metadata": {},
   "outputs": [
    {
     "name": "stdout",
     "output_type": "stream",
     "text": [
      "  lib qty1 qty2\n",
      "0   1    1    0\n",
      "1  -1    0   -1\n",
      "2   1    1    0\n",
      "3   0   -1    1\n",
      "4  -1    0   -1\n"
     ]
    }
   ],
   "source": [
    "from pandas import DataFrame\n",
    "from random import randint\n",
    "\n",
    "\n",
    "res = DataFrame(columns=('lib', 'qty1', 'qty2'))\n",
    "for i in range(5):\n",
    "    res.loc[i] = [randint(-1,1) for n in range(3)]\n",
    "\n",
    "print(res)"
   ]
  },
  {
   "cell_type": "code",
   "execution_count": 28,
   "metadata": {},
   "outputs": [
    {
     "data": {
      "text/plain": [
       "[-1, 0, 0]"
      ]
     },
     "execution_count": 28,
     "metadata": {},
     "output_type": "execute_result"
    }
   ],
   "source": [
    "[randint(-1,1) for n in range(3)]"
   ]
  },
  {
   "cell_type": "code",
   "execution_count": 30,
   "metadata": {},
   "outputs": [
    {
     "name": "stdout",
     "output_type": "stream",
     "text": [
      "0\n",
      "-1\n",
      "0\n"
     ]
    }
   ],
   "source": [
    "for n in range(3):\n",
    "    print(randint(-1,1))"
   ]
  },
  {
   "cell_type": "code",
   "execution_count": null,
   "metadata": {},
   "outputs": [],
   "source": []
  }
 ],
 "metadata": {
  "kernelspec": {
   "display_name": "Python 3",
   "language": "python",
   "name": "python3"
  },
  "language_info": {
   "codemirror_mode": {
    "name": "ipython",
    "version": 3
   },
   "file_extension": ".py",
   "mimetype": "text/x-python",
   "name": "python",
   "nbconvert_exporter": "python",
   "pygments_lexer": "ipython3",
   "version": "3.7.3"
  }
 },
 "nbformat": 4,
 "nbformat_minor": 2
}
