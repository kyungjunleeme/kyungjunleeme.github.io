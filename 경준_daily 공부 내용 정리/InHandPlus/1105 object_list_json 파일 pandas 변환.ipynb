{
 "cells": [
  {
   "cell_type": "code",
   "execution_count": 2,
   "metadata": {},
   "outputs": [
    {
     "name": "stdout",
     "output_type": "stream",
     "text": [
      "['test_01.jpg', 'test_02.jpg', 'test_03.jpg', 'test_04.jpg', 'test_05.jpg', 'test_06.jpg', 'test_07.jpg']\n",
      "{'0': {'obj': 6, 'name': 'bottle', 'score': 0.9989, 'bbox': [62.279999999999994, 900.864, 263.66400000000004, 1190.784], 'size': [1280, 720]}, '1': {'obj': 1, 'name': 'hand', 'score': 0.9819, 'bbox': [196.84799999999998, 537.472, 719.496, 1267.456], 'size': [1280, 720]}, '2': {'obj': 2, 'name': 'grab_bottle_hand', 'score': 0.8719, 'bbox': [176.84799999999998, 527.472, 739.496, 1367.456], 'size': [1280, 720]}, '3': {'obj': 3, 'name': 'face', 'score': 0.9219, 'bbox': [196.84799999999998, 537.472, 719.496, 1267.456], 'size': [1280, 720]}}\n",
      "['0', '1', '2', '3']\n",
      "6\n",
      "bottle\n",
      "0.9989\n",
      "62.279999999999994\n"
     ]
    }
   ],
   "source": [
    "import json\n",
    "\n",
    "\n",
    "with open('object_list.json') as json_file:\n",
    "    json_data = json.load(json_file)\n",
    "    file_name_list = list(json_data)\n",
    "    print(file_name_list)\n",
    "    file_1 = json_data[file_name_list[0]]\n",
    "    obj_count = list(file_1)\n",
    "    print(file_1)\n",
    "    print(obj_count)\n",
    "    info_1 = file_1['0']\n",
    "    print(info_1['obj'])\n",
    "    print(info_1['name'])\n",
    "    print(info_1['score'])\n",
    "    print(info_1['bbox'][0])"
   ]
  },
  {
   "cell_type": "code",
   "execution_count": 81,
   "metadata": {},
   "outputs": [
    {
     "name": "stdout",
     "output_type": "stream",
     "text": [
      "test_01.jpg\n",
      "{'0': {'obj': 6, 'name': 'bottle', 'score': 0.9989, 'bbox': [62.279999999999994, 900.864, 263.66400000000004, 1190.784], 'size': [1280, 720]}, '1': {'obj': 1, 'name': 'hand', 'score': 0.9819, 'bbox': [196.84799999999998, 537.472, 719.496, 1267.456], 'size': [1280, 720]}, '2': {'obj': 2, 'name': 'grab_bottle_hand', 'score': 0.8719, 'bbox': [176.84799999999998, 527.472, 739.496, 1367.456], 'size': [1280, 720]}, '3': {'obj': 3, 'name': 'face', 'score': 0.9219, 'bbox': [196.84799999999998, 537.472, 719.496, 1267.456], 'size': [1280, 720]}}\n",
      "test_02.jpg\n",
      "test_03.jpg\n",
      "test_04.jpg\n",
      "test_05.jpg\n",
      "test_06.jpg\n",
      "{'0': {'obj': 1, 'name': 'hand', 'score': 0.9833, 'bbox': [23.5656, 5.925120000000001, 720.0, 652.0319999999999], 'size': [1280, 720]}}\n",
      "test_07.jpg\n"
     ]
    }
   ],
   "source": [
    "import json\n",
    "import pandas as pd\n",
    "\n",
    "'''bbox[0] = 'ymin'\n",
    "   bbox[1] = 'xmin'\n",
    "   bbox[2] = 'ymax'\n",
    "   bbox[3] = 'xmax'\n",
    "# 0: ymin, 1: xmin, 2: ymax, 3: xmax'''\n",
    "colum_list = ['filename', 'width', 'height', 'obj_name', 'xmin', 'ymin', 'xmax', 'ymax', 'score', 'obj_idx']\n",
    "\n",
    "# row_list = []\n",
    "\n",
    "# per_file_per_object_info_list = []\n",
    "\n",
    "df = pd.DataFrame(columns=colum_list)\n",
    "\n",
    "\n",
    "with open('object_list.json') as json_file:\n",
    "    json_data = json.load(json_file)\n",
    "    file_name_list = list(json_data)         \n",
    "    for filename in file_name_list:\n",
    "        print(filename)\n",
    "        '''파일 1개당 json 정보'''\n",
    "        '''case_1: json 정보 있는 경우 _ case_2: json 정보 없는 경우'''\n",
    "        file_json_info = json_data[filename]\n",
    "        if not file_json_info:\n",
    "                obj_name = 'Null'\n",
    "                obj_idx = 'Null'\n",
    "                score = 'Null'\n",
    "                ymin = 'Null'\n",
    "                xmin = 'Null'\n",
    "                ymax = 'Null'\n",
    "                xmax = 'Null'\n",
    "                width = 'Null'\n",
    "                height = 'Null'\n",
    "                df = df.append(pd.DataFrame([[filename, width, height, obj_name, xmin, ymin, xmax, ymax, score, obj_idx]], columns=colum_list), ignore_index=True)\n",
    "        else:\n",
    "            print(file_json_info)\n",
    "            '''파일 1개당 감지된_되어야하는_object 갯수'''\n",
    "            obj_cnt_list = list(file_json_info)\n",
    "            '''per_obj_cnt 수정 필요'''\n",
    "            per_obj_cnt = len(obj_cnt_list)\n",
    "            for i in obj_cnt_list:\n",
    "                final_info = file_json_info[i]\n",
    "                try:\n",
    "                    obj_name = final_info['name']\n",
    "                    obj_idx = final_info['obj']\n",
    "                    score = final_info['score']\n",
    "                    ymin = final_info['bbox'][0]\n",
    "                    xmin = final_info['bbox'][1]\n",
    "                    ymax = final_info['bbox'][2]\n",
    "                    xmax = final_info['bbox'][3]\n",
    "                    width = final_info['size'][0]\n",
    "                    height = final_info['size'][1]\n",
    "                    df = df.append(pd.DataFrame([[filename, width, height, obj_name, xmin, ymin, xmax, ymax, score, obj_idx]], columns=colum_list), ignore_index=True)\n",
    "                except:\n",
    "                    pass\n",
    "\n",
    "        \n",
    "        \n",
    "        '''(위에서 json 정보 없는 경우에서 걸러짐) case_1: object 있는경우 // case_2: object 없는 경우'''\n",
    "        \n",
    "        '''json 내 obj, name, score, bbox, size'''\n",
    "\n"
   ]
  },
  {
   "cell_type": "code",
   "execution_count": 82,
   "metadata": {},
   "outputs": [
    {
     "name": "stdout",
     "output_type": "stream",
     "text": [
      "      filename width height          obj_name     xmin     ymin     xmax  \\\n",
      "0  test_01.jpg  1280    720            bottle  900.864    62.28  1190.78   \n",
      "1  test_01.jpg  1280    720              hand  537.472  196.848  1267.46   \n",
      "2  test_01.jpg  1280    720  grab_bottle_hand  527.472  176.848  1367.46   \n",
      "3  test_01.jpg  1280    720              face  537.472  196.848  1267.46   \n",
      "4  test_02.jpg  Null   Null              Null     Null     Null     Null   \n",
      "5  test_03.jpg  Null   Null              Null     Null     Null     Null   \n",
      "6  test_04.jpg  Null   Null              Null     Null     Null     Null   \n",
      "7  test_05.jpg  Null   Null              Null     Null     Null     Null   \n",
      "8  test_06.jpg  1280    720              hand  5.92512  23.5656  652.032   \n",
      "9  test_07.jpg  Null   Null              Null     Null     Null     Null   \n",
      "\n",
      "      ymax   score obj_idx  \n",
      "0  263.664  0.9989       6  \n",
      "1  719.496  0.9819       1  \n",
      "2  739.496  0.8719       2  \n",
      "3  719.496  0.9219       3  \n",
      "4     Null    Null    Null  \n",
      "5     Null    Null    Null  \n",
      "6     Null    Null    Null  \n",
      "7     Null    Null    Null  \n",
      "8      720  0.9833       1  \n",
      "9     Null    Null    Null  \n"
     ]
    }
   ],
   "source": [
    "print(df)"
   ]
  },
  {
   "cell_type": "code",
   "execution_count": null,
   "metadata": {},
   "outputs": [],
   "source": []
  }
 ],
 "metadata": {
  "kernelspec": {
   "display_name": "Python 3",
   "language": "python",
   "name": "python3"
  },
  "language_info": {
   "codemirror_mode": {
    "name": "ipython",
    "version": 3
   },
   "file_extension": ".py",
   "mimetype": "text/x-python",
   "name": "python",
   "nbconvert_exporter": "python",
   "pygments_lexer": "ipython3",
   "version": "3.7.3"
  }
 },
 "nbformat": 4,
 "nbformat_minor": 2
}
