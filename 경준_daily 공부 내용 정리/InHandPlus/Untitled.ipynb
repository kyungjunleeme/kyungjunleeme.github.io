{
 "cells": [
  {
   "cell_type": "code",
   "execution_count": 6,
   "metadata": {},
   "outputs": [
    {
     "name": "stdout",
     "output_type": "stream",
     "text": [
      "<class 'pandas.core.frame.DataFrame'>\n"
     ]
    }
   ],
   "source": [
    "import pandas as pd\n",
    "\n",
    "data = pd.read_csv(\"C:\\\\Users\\\\godof\\\\Desktop\\\\answer.csv\", names=['video', 'frame_jpg'])\n",
    "print(type(data))"
   ]
  },
  {
   "cell_type": "code",
   "execution_count": 7,
   "metadata": {},
   "outputs": [
    {
     "data": {
      "text/html": [
       "<div>\n",
       "<style scoped>\n",
       "    .dataframe tbody tr th:only-of-type {\n",
       "        vertical-align: middle;\n",
       "    }\n",
       "\n",
       "    .dataframe tbody tr th {\n",
       "        vertical-align: top;\n",
       "    }\n",
       "\n",
       "    .dataframe thead th {\n",
       "        text-align: right;\n",
       "    }\n",
       "</style>\n",
       "<table border=\"1\" class=\"dataframe\">\n",
       "  <thead>\n",
       "    <tr style=\"text-align: right;\">\n",
       "      <th></th>\n",
       "      <th>video</th>\n",
       "      <th>frame_jpg</th>\n",
       "    </tr>\n",
       "  </thead>\n",
       "  <tbody>\n",
       "    <tr>\n",
       "      <td>0</td>\n",
       "      <td>200406_175250_null</td>\n",
       "      <td>200406_175250_null_54.jpg</td>\n",
       "    </tr>\n",
       "    <tr>\n",
       "      <td>1</td>\n",
       "      <td>200406_175250_null</td>\n",
       "      <td>200406_175250_null_55.jpg</td>\n",
       "    </tr>\n",
       "    <tr>\n",
       "      <td>2</td>\n",
       "      <td>200406_175250_null</td>\n",
       "      <td>200406_175250_null_56.jpg</td>\n",
       "    </tr>\n",
       "    <tr>\n",
       "      <td>3</td>\n",
       "      <td>200406_175250_null</td>\n",
       "      <td>200406_175250_null_57.jpg</td>\n",
       "    </tr>\n",
       "    <tr>\n",
       "      <td>4</td>\n",
       "      <td>200406_175250_null</td>\n",
       "      <td>200406_175250_null_58.jpg</td>\n",
       "    </tr>\n",
       "    <tr>\n",
       "      <td>...</td>\n",
       "      <td>...</td>\n",
       "      <td>...</td>\n",
       "    </tr>\n",
       "    <tr>\n",
       "      <td>89</td>\n",
       "      <td>200406_180239_null</td>\n",
       "      <td>200406_180239_null_113.jpg</td>\n",
       "    </tr>\n",
       "    <tr>\n",
       "      <td>90</td>\n",
       "      <td>200406_180239_null</td>\n",
       "      <td>200406_180239_null_114.jpg</td>\n",
       "    </tr>\n",
       "    <tr>\n",
       "      <td>91</td>\n",
       "      <td>200406_180239_null</td>\n",
       "      <td>200406_180239_null_115.jpg</td>\n",
       "    </tr>\n",
       "    <tr>\n",
       "      <td>92</td>\n",
       "      <td>200406_180239_null</td>\n",
       "      <td>200406_180239_null_116.jpg</td>\n",
       "    </tr>\n",
       "    <tr>\n",
       "      <td>93</td>\n",
       "      <td>200406_180239_null</td>\n",
       "      <td>200406_180239_null_117.jpg</td>\n",
       "    </tr>\n",
       "  </tbody>\n",
       "</table>\n",
       "<p>94 rows × 2 columns</p>\n",
       "</div>"
      ],
      "text/plain": [
       "                 video                   frame_jpg\n",
       "0   200406_175250_null   200406_175250_null_54.jpg\n",
       "1   200406_175250_null   200406_175250_null_55.jpg\n",
       "2   200406_175250_null   200406_175250_null_56.jpg\n",
       "3   200406_175250_null   200406_175250_null_57.jpg\n",
       "4   200406_175250_null   200406_175250_null_58.jpg\n",
       "..                 ...                         ...\n",
       "89  200406_180239_null  200406_180239_null_113.jpg\n",
       "90  200406_180239_null  200406_180239_null_114.jpg\n",
       "91  200406_180239_null  200406_180239_null_115.jpg\n",
       "92  200406_180239_null  200406_180239_null_116.jpg\n",
       "93  200406_180239_null  200406_180239_null_117.jpg\n",
       "\n",
       "[94 rows x 2 columns]"
      ]
     },
     "execution_count": 7,
     "metadata": {},
     "output_type": "execute_result"
    }
   ],
   "source": [
    "data"
   ]
  },
  {
   "cell_type": "code",
   "execution_count": 10,
   "metadata": {},
   "outputs": [
    {
     "data": {
      "text/plain": [
       "94"
      ]
     },
     "execution_count": 10,
     "metadata": {},
     "output_type": "execute_result"
    }
   ],
   "source": [
    "len(data)"
   ]
  },
  {
   "cell_type": "code",
   "execution_count": 9,
   "metadata": {},
   "outputs": [
    {
     "data": {
      "text/plain": [
       "['200406_175250_null', '200406_175250_null_57.jpg']"
      ]
     },
     "execution_count": 9,
     "metadata": {},
     "output_type": "execute_result"
    }
   ],
   "source": [
    "list(data.iloc[3])"
   ]
  },
  {
   "cell_type": "code",
   "execution_count": 12,
   "metadata": {},
   "outputs": [],
   "source": [
    "answer_df_to_list = []\n",
    "for i in range(len(data)):\n",
    "    answer_df_to_list.append(list(data.iloc[i]))"
   ]
  },
  {
   "cell_type": "code",
   "execution_count": 15,
   "metadata": {},
   "outputs": [
    {
     "data": {
      "text/plain": [
       "[['200406_175250_null', '200406_175250_null_54.jpg'],\n",
       " ['200406_175250_null', '200406_175250_null_55.jpg'],\n",
       " ['200406_175250_null', '200406_175250_null_56.jpg'],\n",
       " ['200406_175250_null', '200406_175250_null_57.jpg'],\n",
       " ['200406_175250_null', '200406_175250_null_58.jpg'],\n",
       " ['200406_175250_null', '200406_175250_null_59.jpg'],\n",
       " ['200406_175250_null', '200406_175250_null_60.jpg'],\n",
       " ['200406_175250_null', '200406_175250_null_61.jpg'],\n",
       " ['200406_175250_null', '200406_175250_null_62.jpg'],\n",
       " ['200406_175250_null', '200406_175250_null_63.jpg'],\n",
       " ['200406_175250_null', '200406_175250_null_64.jpg'],\n",
       " ['200406_175250_null', '200406_175250_null_65.jpg'],\n",
       " ['200406_175250_null', '200406_175250_null_66.jpg'],\n",
       " ['200406_175250_null', '200406_175250_null_67.jpg'],\n",
       " ['200406_175250_null', '200406_175250_null_68.jpg'],\n",
       " ['200406_175250_null', '200406_175250_null_69.jpg'],\n",
       " ['200406_175250_null', '200406_175250_null_70.jpg'],\n",
       " ['200406_175250_null', '200406_175250_null_71.jpg'],\n",
       " ['200406_175250_null', '200406_175250_null_72.jpg'],\n",
       " ['200406_175250_null', '200406_175250_null_73.jpg'],\n",
       " ['200406_175250_null', '200406_175250_null_74.jpg'],\n",
       " ['200406_175746_null', '200406_175746_null_127.jpg'],\n",
       " ['200406_175746_null', '200406_175746_null_128.jpg'],\n",
       " ['200406_175746_null', '200406_175746_null_129.jpg'],\n",
       " ['200406_175746_null', '200406_175746_null_130.jpg'],\n",
       " ['200406_175746_null', '200406_175746_null_131.jpg'],\n",
       " ['200406_175746_null', '200406_175746_null_132.jpg'],\n",
       " ['200406_175746_null', '200406_175746_null_133.jpg'],\n",
       " ['200406_175746_null', '200406_175746_null_134.jpg'],\n",
       " ['200406_175746_null', '200406_175746_null_135.jpg'],\n",
       " ['200406_175746_null', '200406_175746_null_136.jpg'],\n",
       " ['200406_175746_null', '200406_175746_null_137.jpg'],\n",
       " ['200406_175746_null', '200406_175746_null_138.jpg'],\n",
       " ['200406_175746_null', '200406_175746_null_139.jpg'],\n",
       " ['200406_175746_null', '200406_175746_null_140.jpg'],\n",
       " ['200406_175746_null', '200406_175746_null_141.jpg'],\n",
       " ['200406_175746_null', '200406_175746_null_142.jpg'],\n",
       " ['200406_175746_null', '200406_175746_null_143.jpg'],\n",
       " ['200406_175746_null', '200406_175746_null_144.jpg'],\n",
       " ['200406_175746_null', '200406_175746_null_145.jpg'],\n",
       " ['200406_175746_null', '200406_175746_null_146.jpg'],\n",
       " ['200406_175746_null', '200406_175746_null_147.jpg'],\n",
       " ['200406_175746_null', '200406_175746_null_148.jpg'],\n",
       " ['200406_175746_null', '200406_175746_null_149.jpg'],\n",
       " ['200406_175746_null', '200406_175746_null_150.jpg'],\n",
       " ['200406_175746_null', '200406_175746_null_151.jpg'],\n",
       " ['200406_175746_null', '200406_175746_null_152.jpg'],\n",
       " ['200406_175746_null', '200406_175746_null_153.jpg'],\n",
       " ['200406_175746_null', '200406_175746_null_154.jpg'],\n",
       " ['200406_175746_null', '200406_175746_null_155.jpg'],\n",
       " ['200406_175746_null', '200406_175746_null_156.jpg'],\n",
       " ['200406_175746_null', '200406_175746_null_157.jpg'],\n",
       " ['200406_175746_null', '200406_175746_null_158.jpg'],\n",
       " ['200406_175746_null', '200406_175746_null_159.jpg'],\n",
       " ['200406_175746_null', '200406_175746_null_160.jpg'],\n",
       " ['200406_175746_null', '200406_175746_null_161.jpg'],\n",
       " ['200406_175746_null', '200406_175746_null_162.jpg'],\n",
       " ['200406_175746_null', '200406_175746_null_163.jpg'],\n",
       " ['200406_175746_null', '200406_175746_null_164.jpg'],\n",
       " ['200406_180239_null', '200406_180239_null_83.jpg'],\n",
       " ['200406_180239_null', '200406_180239_null_84.jpg'],\n",
       " ['200406_180239_null', '200406_180239_null_85.jpg'],\n",
       " ['200406_180239_null', '200406_180239_null_86.jpg'],\n",
       " ['200406_180239_null', '200406_180239_null_87.jpg'],\n",
       " ['200406_180239_null', '200406_180239_null_88.jpg'],\n",
       " ['200406_180239_null', '200406_180239_null_89.jpg'],\n",
       " ['200406_180239_null', '200406_180239_null_90.jpg'],\n",
       " ['200406_180239_null', '200406_180239_null_91.jpg'],\n",
       " ['200406_180239_null', '200406_180239_null_92.jpg'],\n",
       " ['200406_180239_null', '200406_180239_null_93.jpg'],\n",
       " ['200406_180239_null', '200406_180239_null_94.jpg'],\n",
       " ['200406_180239_null', '200406_180239_null_95.jpg'],\n",
       " ['200406_180239_null', '200406_180239_null_96.jpg'],\n",
       " ['200406_180239_null', '200406_180239_null_97.jpg'],\n",
       " ['200406_180239_null', '200406_180239_null_98.jpg'],\n",
       " ['200406_180239_null', '200406_180239_null_99.jpg'],\n",
       " ['200406_180239_null', '200406_180239_null_100.jpg'],\n",
       " ['200406_180239_null', '200406_180239_null_101.jpg'],\n",
       " ['200406_180239_null', '200406_180239_null_102.jpg'],\n",
       " ['200406_180239_null', '200406_180239_null_103.jpg'],\n",
       " ['200406_180239_null', '200406_180239_null_104.jpg'],\n",
       " ['200406_180239_null', '200406_180239_null_105.jpg'],\n",
       " ['200406_180239_null', '200406_180239_null_106.jpg'],\n",
       " ['200406_180239_null', '200406_180239_null_107.jpg'],\n",
       " ['200406_180239_null', '200406_180239_null_108.jpg'],\n",
       " ['200406_180239_null', '200406_180239_null_109.jpg'],\n",
       " ['200406_180239_null', '200406_180239_null_110.jpg'],\n",
       " ['200406_180239_null', '200406_180239_null_111.jpg'],\n",
       " ['200406_180239_null', '200406_180239_null_112.jpg'],\n",
       " ['200406_180239_null', '200406_180239_null_113.jpg'],\n",
       " ['200406_180239_null', '200406_180239_null_114.jpg'],\n",
       " ['200406_180239_null', '200406_180239_null_115.jpg'],\n",
       " ['200406_180239_null', '200406_180239_null_116.jpg'],\n",
       " ['200406_180239_null', '200406_180239_null_117.jpg']]"
      ]
     },
     "execution_count": 15,
     "metadata": {},
     "output_type": "execute_result"
    }
   ],
   "source": [
    "answer_df_to_list"
   ]
  },
  {
   "cell_type": "code",
   "execution_count": 16,
   "metadata": {},
   "outputs": [],
   "source": [
    "answer_dict = {}\n",
    "for video, frame_jpg in answer_df_to_list:\n",
    "    if video not in answer_dict:\n",
    "        answer_dict[video] = []\n",
    "    answer_dict[video].append(frame_jpg)"
   ]
  },
  {
   "cell_type": "code",
   "execution_count": 17,
   "metadata": {},
   "outputs": [
    {
     "data": {
      "text/plain": [
       "{'200406_175250_null': ['200406_175250_null_54.jpg',\n",
       "  '200406_175250_null_55.jpg',\n",
       "  '200406_175250_null_56.jpg',\n",
       "  '200406_175250_null_57.jpg',\n",
       "  '200406_175250_null_58.jpg',\n",
       "  '200406_175250_null_59.jpg',\n",
       "  '200406_175250_null_60.jpg',\n",
       "  '200406_175250_null_61.jpg',\n",
       "  '200406_175250_null_62.jpg',\n",
       "  '200406_175250_null_63.jpg',\n",
       "  '200406_175250_null_64.jpg',\n",
       "  '200406_175250_null_65.jpg',\n",
       "  '200406_175250_null_66.jpg',\n",
       "  '200406_175250_null_67.jpg',\n",
       "  '200406_175250_null_68.jpg',\n",
       "  '200406_175250_null_69.jpg',\n",
       "  '200406_175250_null_70.jpg',\n",
       "  '200406_175250_null_71.jpg',\n",
       "  '200406_175250_null_72.jpg',\n",
       "  '200406_175250_null_73.jpg',\n",
       "  '200406_175250_null_74.jpg'],\n",
       " '200406_175746_null': ['200406_175746_null_127.jpg',\n",
       "  '200406_175746_null_128.jpg',\n",
       "  '200406_175746_null_129.jpg',\n",
       "  '200406_175746_null_130.jpg',\n",
       "  '200406_175746_null_131.jpg',\n",
       "  '200406_175746_null_132.jpg',\n",
       "  '200406_175746_null_133.jpg',\n",
       "  '200406_175746_null_134.jpg',\n",
       "  '200406_175746_null_135.jpg',\n",
       "  '200406_175746_null_136.jpg',\n",
       "  '200406_175746_null_137.jpg',\n",
       "  '200406_175746_null_138.jpg',\n",
       "  '200406_175746_null_139.jpg',\n",
       "  '200406_175746_null_140.jpg',\n",
       "  '200406_175746_null_141.jpg',\n",
       "  '200406_175746_null_142.jpg',\n",
       "  '200406_175746_null_143.jpg',\n",
       "  '200406_175746_null_144.jpg',\n",
       "  '200406_175746_null_145.jpg',\n",
       "  '200406_175746_null_146.jpg',\n",
       "  '200406_175746_null_147.jpg',\n",
       "  '200406_175746_null_148.jpg',\n",
       "  '200406_175746_null_149.jpg',\n",
       "  '200406_175746_null_150.jpg',\n",
       "  '200406_175746_null_151.jpg',\n",
       "  '200406_175746_null_152.jpg',\n",
       "  '200406_175746_null_153.jpg',\n",
       "  '200406_175746_null_154.jpg',\n",
       "  '200406_175746_null_155.jpg',\n",
       "  '200406_175746_null_156.jpg',\n",
       "  '200406_175746_null_157.jpg',\n",
       "  '200406_175746_null_158.jpg',\n",
       "  '200406_175746_null_159.jpg',\n",
       "  '200406_175746_null_160.jpg',\n",
       "  '200406_175746_null_161.jpg',\n",
       "  '200406_175746_null_162.jpg',\n",
       "  '200406_175746_null_163.jpg',\n",
       "  '200406_175746_null_164.jpg'],\n",
       " '200406_180239_null': ['200406_180239_null_83.jpg',\n",
       "  '200406_180239_null_84.jpg',\n",
       "  '200406_180239_null_85.jpg',\n",
       "  '200406_180239_null_86.jpg',\n",
       "  '200406_180239_null_87.jpg',\n",
       "  '200406_180239_null_88.jpg',\n",
       "  '200406_180239_null_89.jpg',\n",
       "  '200406_180239_null_90.jpg',\n",
       "  '200406_180239_null_91.jpg',\n",
       "  '200406_180239_null_92.jpg',\n",
       "  '200406_180239_null_93.jpg',\n",
       "  '200406_180239_null_94.jpg',\n",
       "  '200406_180239_null_95.jpg',\n",
       "  '200406_180239_null_96.jpg',\n",
       "  '200406_180239_null_97.jpg',\n",
       "  '200406_180239_null_98.jpg',\n",
       "  '200406_180239_null_99.jpg',\n",
       "  '200406_180239_null_100.jpg',\n",
       "  '200406_180239_null_101.jpg',\n",
       "  '200406_180239_null_102.jpg',\n",
       "  '200406_180239_null_103.jpg',\n",
       "  '200406_180239_null_104.jpg',\n",
       "  '200406_180239_null_105.jpg',\n",
       "  '200406_180239_null_106.jpg',\n",
       "  '200406_180239_null_107.jpg',\n",
       "  '200406_180239_null_108.jpg',\n",
       "  '200406_180239_null_109.jpg',\n",
       "  '200406_180239_null_110.jpg',\n",
       "  '200406_180239_null_111.jpg',\n",
       "  '200406_180239_null_112.jpg',\n",
       "  '200406_180239_null_113.jpg',\n",
       "  '200406_180239_null_114.jpg',\n",
       "  '200406_180239_null_115.jpg',\n",
       "  '200406_180239_null_116.jpg',\n",
       "  '200406_180239_null_117.jpg']}"
      ]
     },
     "execution_count": 17,
     "metadata": {},
     "output_type": "execute_result"
    }
   ],
   "source": [
    "answer_dict"
   ]
  },
  {
   "cell_type": "code",
   "execution_count": null,
   "metadata": {},
   "outputs": [],
   "source": []
  }
 ],
 "metadata": {
  "kernelspec": {
   "display_name": "Python 3",
   "language": "python",
   "name": "python3"
  },
  "language_info": {
   "codemirror_mode": {
    "name": "ipython",
    "version": 3
   },
   "file_extension": ".py",
   "mimetype": "text/x-python",
   "name": "python",
   "nbconvert_exporter": "python",
   "pygments_lexer": "ipython3",
   "version": "3.7.4"
  }
 },
 "nbformat": 4,
 "nbformat_minor": 2
}
