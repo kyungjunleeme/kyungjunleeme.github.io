{
 "cells": [
  {
   "cell_type": "code",
   "execution_count": null,
   "metadata": {},
   "outputs": [],
   "source": [
    "import json\n",
    "import pandas as pd\n",
    "from pandas import DataFrame\n",
    "import numpy as np\n",
    "\n",
    "'''bbox[0] = 'ymin'\n",
    "   bbox[1] = 'xmin'\n",
    "   bbox[2] = 'ymax'\n",
    "   bbox[3] = 'xmax'\n",
    "# 0: ymin, 1: xmin, 2: ymax, 3: xmax'''\n",
    "# colum_list = ['filename', 'obj_list', 'obj_sum_cnt']\n",
    "# ans_obj_list=[]\n",
    "object_list = []\n",
    "\n",
    "# row_list = []\n",
    "\n",
    "# per_file_per_object_info_list = []\n",
    "\n",
    "df = DataFrame(columns=('filename', 'obj_sum_cnt','obj_list'))\n",
    "\n",
    "\n",
    "\n",
    "\n",
    "\n",
    "def mk_file_list(source_file):\n",
    "    with open(source_file) as json_file:\n",
    "        json_data = json.load(json_file)\n",
    "        file_name_list = list(json_data)\n",
    "        for filename in file_name_list:\n",
    "            file_info = json_data[filename]\n",
    "            object_list[:]=[]\n",
    "            print(file_info)\n",
    "            obj_cnt_list = list(file_info)\n",
    "            obj_cnt = len(obj_cnt_list)\n",
    "            print(obj_cnt_list)\n",
    "            for obj_idx in obj_cnt_list[:]:\n",
    "                try:\n",
    "                    pop_ele = obj_cnt_list.pop(len(obj_idx)-1)\n",
    "                    object_list.append(file_info[pop_ele]['name'])\n",
    "                    if not obj_cnt_list:\n",
    "                        print(df)\n",
    "                        df = df.append(pd.DataFrame([[filename, obj_list, obj_sum_cnt]], columns=colum_list), ignore_index=True)\n",
    "\n",
    "                    else:\n",
    "                        print('아직' + obj_idx+\"발(+1)\"+'발 남았다')\n",
    "                except:\n",
    "                    ''' pop_ele에 원소 없으면 오류 발생할테니 '''\n",
    "                    continue\n",
    "\n",
    "if __name__ == '__main__':\n",
    "    mk_file_list('object_list_test.json')\n",
    "\n",
    "\n",
    "            "
   ]
  }
 ],
 "metadata": {
  "kernelspec": {
   "display_name": "Python 3",
   "language": "python",
   "name": "python3"
  },
  "language_info": {
   "codemirror_mode": {
    "name": "ipython",
    "version": 3
   },
   "file_extension": ".py",
   "mimetype": "text/x-python",
   "name": "python",
   "nbconvert_exporter": "python",
   "pygments_lexer": "ipython3",
   "version": "3.7.3"
  }
 },
 "nbformat": 4,
 "nbformat_minor": 2
}
